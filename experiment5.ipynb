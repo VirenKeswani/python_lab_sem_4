{
 "cells": [
  {
   "cell_type": "markdown",
   "metadata": {},
   "source": [
    "![\"python lec\"](./exp5.jpeg)\n"
   ]
  },
  {
   "cell_type": "markdown",
   "metadata": {},
   "source": []
  },
  {
   "cell_type": "code",
   "execution_count": 2,
   "metadata": {},
   "outputs": [
    {
     "name": "stdout",
     "output_type": "stream",
     "text": [
      "Enter the number of employees\n",
      "0\n",
      "Viren\n",
      "1\n",
      "Hriday\n",
      "2\n",
      "Vedant\n",
      "The number of employees are : 3\n"
     ]
    }
   ],
   "source": [
    "#list of employee using employee class\n",
    "#emp class\n",
    "class Employee:\n",
    "    emp_count=0\n",
    "\n",
    "    def __init__(self, id):\n",
    "        self.id = id\n",
    "\n",
    "\n",
    "    def set_name(self,name):\n",
    "        self.name = name\n",
    "\n",
    "    def get_name(self):\n",
    "        return self.name\n",
    "\n",
    "    def get_id(self):\n",
    "        return self.id\n",
    "    \n",
    "    def set_empcount(self,emp_count):\n",
    "        self.emp_count = emp_count\n",
    "    \n",
    "    def get_empcount(self):\n",
    "        return self.emp_count\n",
    "    \n",
    "\n",
    "\n",
    "_list = [Employee(-1)]\n",
    "print(\"Enter the number of employees\")\n",
    "n=int(input())\n",
    "for i in range(0,n):\n",
    "    name = input(\"Enter the name\")\n",
    "    _list.insert(i,Employee(i))\n",
    "    _list[i].set_name(name)\n",
    "    _list[i].set_empcount(n)\n",
    "\n",
    "for i in range(n):\n",
    "    print(_list[i].get_id())\n",
    "    print(_list[i].get_name())\n",
    "\n",
    "print(f\"The number of employees are : {_list[0].get_empcount()}\")\n",
    "       \n",
    "\n",
    "\n"
   ]
  },
  {
   "cell_type": "code",
   "execution_count": 30,
   "metadata": {},
   "outputs": [
    {
     "name": "stdout",
     "output_type": "stream",
     "text": [
      "IIT\n",
      "1\n",
      "Saurabh\n",
      "5\n"
     ]
    }
   ],
   "source": [
    "class Employee:\n",
    "    empcount = 0\n",
    "   \n",
    "    def __init__(self,_id,**kwargs):\n",
    "        super().__init__(**kwargs)\n",
    "        self._id=_id\n",
    "        \n",
    "    def set_name(self,name):\n",
    "        self.name=name\n",
    "    def get_name(self):\n",
    "        return self.name\n",
    "\n",
    "    def get_id(self):\n",
    "        return self._id\n",
    "\n",
    "    def set_empcount(self,emp_count):\n",
    "        self.emp_count = emp_count\n",
    "    def get_empcount(self):\n",
    "        return self.emp_count\n",
    "    \n",
    "class Student:\n",
    "    def __init__(self,college,**kwargs):\n",
    "        super().__init__(**kwargs)\n",
    "        self.college=college\n",
    "    def get_college(self):\n",
    "        return self.college\n",
    "    \n",
    "\n",
    "class Intern(Employee, Student):\n",
    "    def __init__(self, _id, college):\n",
    "        super().__init__(_id=_id, college=college)\n",
    "    def setdetails(name,self):\n",
    "        self.name=name\n",
    "    def getdetails(self):\n",
    "        print(self.get_college())\n",
    "        print(self.get_id())\n",
    "        print(self.get_name())\n",
    "        print(self.get_empcount())\n",
    "\n",
    "\n",
    "\n",
    "Details=Intern(1,'IIT',)\n",
    "Details.set_name('Saurabh')\n",
    "Details.set_empcount(1)\n",
    "Details.getdetails()\n",
    "\n",
    "Details2 = Intern(2,'TSEC',)\n",
    "Details2.set_name('insert random name')\n",
    "Details2.set_empcount(2)\n",
    "Details2.getdetails()"
   ]
  },
  {
   "cell_type": "code",
   "execution_count": 33,
   "metadata": {},
   "outputs": [
    {
     "name": "stdout",
     "output_type": "stream",
     "text": [
      "True\n"
     ]
    }
   ],
   "source": [
    "class lt:\n",
    "    def __init__(self,a):\n",
    "        self.a=a\n",
    "    def __gt__(self,other):\n",
    "        return self.a<other.a\n",
    "ob1= lt(5)\n",
    "ob2= lt(10)\n",
    "print(ob1>ob2)\n",
    "\n"
   ]
  },
  {
   "cell_type": "code",
   "execution_count": 21,
   "metadata": {},
   "outputs": [
    {
     "name": "stdout",
     "output_type": "stream",
     "text": [
      "Printing it\n",
      "Printing it again\n"
     ]
    },
    {
     "data": {
      "text/plain": [
       "'disconnected'"
      ]
     },
     "execution_count": 21,
     "metadata": {},
     "output_type": "execute_result"
    }
   ],
   "source": [
    "from abc import *\n",
    "class printer:\n",
    "    def __init__(self,text):\n",
    "        self.text=text\n",
    "    @abstractmethod\n",
    "    def printit(self,text):\n",
    "        pass\n",
    "    @abstractmethod\n",
    "    def disconnect(self):\n",
    "        pass\n",
    "class IBM(printer):\n",
    "    def printit(self):\n",
    "       print(self.text)\n",
    "       return self.text\n",
    "    def disconnect(self):\n",
    "        return \"disconnected\"\n",
    "class HP(printer):\n",
    "    def printit(self):\n",
    "        print(self.text)\n",
    "\n",
    "    def disconnect(self):\n",
    "        return \"disconnected\"\n",
    "\n",
    "interprint = IBM(\"Printing it\")\n",
    "interprint.printit()\n",
    "interprint.disconnect()\n",
    "\n",
    "interprint2 = HP(\"Printing it again\")\n",
    "interprint2.printit()\n",
    "interprint2.disconnect()\n",
    "\n"
   ]
  }
 ],
 "metadata": {
  "interpreter": {
   "hash": "5d240ba0dc525c389faa33f5dcce5b4f32b6d6aa6d70d6d2dd929bd2b09ab69f"
  },
  "kernelspec": {
   "display_name": "Python 3.10.1 64-bit",
   "language": "python",
   "name": "python3"
  },
  "language_info": {
   "codemirror_mode": {
    "name": "ipython",
    "version": 3
   },
   "file_extension": ".py",
   "mimetype": "text/x-python",
   "name": "python",
   "nbconvert_exporter": "python",
   "pygments_lexer": "ipython3",
   "version": "3.8.8"
  },
  "orig_nbformat": 4
 },
 "nbformat": 4,
 "nbformat_minor": 2
}
