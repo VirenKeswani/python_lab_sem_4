{
 "cells": [
  {
   "cell_type": "code",
   "execution_count": 1,
   "metadata": {},
   "outputs": [
    {
     "name": "stdout",
     "output_type": "stream",
     "text": [
      "twinkel, twikel little star, \n",
      " \t\"how i wonder what you are!\"\n",
      "\t\tLike a diamond in thesky.\n",
      "Twinkel, 'twinkel' ,little star,\n",
      "\tHow i wonder what you are\n"
     ]
    }
   ],
   "source": [
    "print(\"twinkel, twikel little star, \\n \\t\\\"how i wonder what you are!\\\"\\n\\t\\tLike a diamond in thesky.\\nTwinkel, \\'twinkel\\' ,little star,\\n\\tHow i wonder what you are\")"
   ]
  },
  {
   "cell_type": "code",
   "execution_count": null,
   "metadata": {},
   "outputs": [],
   "source": []
  },
  {
   "cell_type": "code",
   "execution_count": 4,
   "metadata": {},
   "outputs": [
    {
     "name": "stdout",
     "output_type": "stream",
     "text": [
      "enter two strings\n",
      "entered values are: hello and my nae is viren\n",
      "My name is viren\n"
     ]
    }
   ],
   "source": [
    "print(\"enter two strings\")\n",
    "a = input(\"enter first string: \")\n",
    "b = input(\"enter second string: \")\n",
    "\n",
    "formatstr = str.format(\"entered values are: {} and {}\", a, b)\n",
    "print(formatstr)\n",
    "\n",
    "name = \"viren\"\n",
    "print(\"My name is %s\" % name)"
   ]
  },
  {
   "cell_type": "code",
   "execution_count": 7,
   "metadata": {},
   "outputs": [
    {
     "name": "stdout",
     "output_type": "stream",
     "text": [
      "2016  is aleap year\n"
     ]
    }
   ],
   "source": [
    "year = input(\"enter year: \")\n",
    "if year.isdigit():\n",
    "    if int(year) % 4 == 0:\n",
    "        print(year,\" is aleap year\")\n",
    "    else:\n",
    "        print(year,\" not leap year\")\n",
    "else:\n",
    "    print(\"not a number\")"
   ]
  },
  {
   "cell_type": "code",
   "execution_count": 21,
   "metadata": {},
   "outputs": [
    {
     "name": "stdout",
     "output_type": "stream",
     "text": [
      "1 is an armstong number\n",
      "153 is an armstong number\n",
      "370 is an armstong number\n",
      "371 is an armstong number\n",
      "407 is an armstong number\n"
     ]
    }
   ],
   "source": [
    "for x in range(1, 1000):\n",
    "    sum = 0\n",
    "    temp_number = x\n",
    "\n",
    "    while(temp_number!=0):\n",
    "        digit = temp_number % 10\n",
    "        sum = sum + digit**3\n",
    "        temp_number = temp_number // 10\n",
    "    \n",
    "    if sum == x :\n",
    "        print(\"{0} is an armstong number\".format(sum))"
   ]
  },
  {
   "cell_type": "code",
   "execution_count": 8,
   "metadata": {},
   "outputs": [
    {
     "name": "stdout",
     "output_type": "stream",
     "text": [
      "0\n",
      "1\n",
      "1\n",
      "2\n",
      "3\n",
      "5\n",
      "8\n",
      "13\n",
      "21\n"
     ]
    }
   ],
   "source": [
    "n=int(input(\"enter number: \"))\n",
    "a,b=0,1\n",
    "for x in range(1,n):\n",
    "    #fibonacci series\n",
    "    print(a)\n",
    "    c = a+b\n",
    "    a=b\n",
    "    b=c\n",
    "\n"
   ]
  },
  {
   "cell_type": "markdown",
   "metadata": {},
   "source": [
    "# Pattern programs:\n",
    "\n",
    "1.)\n",
    "\n",
    "A<br />\n",
    "BB<br />\n",
    "CCC<br />\n",
    "DDDD<br />\n",
    "EEEEEE"
   ]
  },
  {
   "cell_type": "code",
   "execution_count": 24,
   "metadata": {},
   "outputs": [
    {
     "name": "stdout",
     "output_type": "stream",
     "text": [
      "A\n",
      "BB\n",
      "CCC\n",
      "DDDD\n",
      "EEEEE\n"
     ]
    }
   ],
   "source": [
    "for i in range(65,70):\n",
    "    print(chr(i)*(i-64))\n"
   ]
  },
  {
   "cell_type": "markdown",
   "metadata": {},
   "source": [
    "2.)\n",
    "\n",
    "*****<br />\n",
    "&nbsp; ****<br />\n",
    "&nbsp;&nbsp; ***<br />\n",
    "&nbsp;&nbsp;&nbsp; **<br />\n",
    "&nbsp;&nbsp;&nbsp;&nbsp; *"
   ]
  },
  {
   "cell_type": "code",
   "execution_count": null,
   "metadata": {},
   "outputs": [
    {
     "name": "stdout",
     "output_type": "stream",
     "text": [
      " *****\n",
      "  ****\n",
      "   ***\n",
      "    **\n",
      "     *\n"
     ]
    }
   ],
   "source": [
    "for i in range(5,0,-1):\n",
    "    for j in range(6-i,0,-1):\n",
    "        print(\" \", end=\"\")\n",
    "    print(\"*\"*i)\n"
   ]
  },
  {
   "cell_type": "markdown",
   "metadata": {},
   "source": [
    "3.)\n",
    "\n",
    "&nbsp; &nbsp; &nbsp; &nbsp; 1<br/>\n",
    "&nbsp; &nbsp; &nbsp; 121<br/>\n",
    "&nbsp; &nbsp; 12321<br/>\n",
    "&nbsp; 1234321<br/>\n",
    "123454321"
   ]
  },
  {
   "cell_type": "code",
   "execution_count": null,
   "metadata": {},
   "outputs": [
    {
     "name": "stdout",
     "output_type": "stream",
     "text": [
      "    1\n",
      "   121\n",
      "  12321\n",
      " 1234321\n",
      "123454321\n"
     ]
    }
   ],
   "source": [
    "for x in range(1,6):\n",
    "    print(\" \"*(5-x), end=\"\")\n",
    "    for y in range(1,x+1):\n",
    "        print(y, end=\"\")\n",
    "    for z in range(x-1,0,-1):\n",
    "        print(z, end=\"\")\n",
    "    print()"
   ]
  },
  {
   "cell_type": "markdown",
   "metadata": {},
   "source": [
    "4.)\n",
    "\n",
    "&nbsp; &nbsp; &nbsp; &nbsp; * <br/>\n",
    "&nbsp; &nbsp; &nbsp; * &nbsp; * <br/>\n",
    "&nbsp; &nbsp; * &nbsp; * &nbsp; * <br/>\n",
    "&nbsp; * &nbsp; * &nbsp; * &nbsp; * <br/>\n",
    "*****"
   ]
  },
  {
   "cell_type": "code",
   "execution_count": null,
   "metadata": {},
   "outputs": [
    {
     "name": "stdout",
     "output_type": "stream",
     "text": [
      "   * \n",
      "  * * \n",
      " * * * \n",
      "* * * * \n"
     ]
    }
   ],
   "source": [
    "for i in range(1,5):\n",
    "    for j in range(4-i,0,-1):\n",
    "        print(\" \", end=\"\")\n",
    "    print(\"* \"*(i), end=\"\")\n",
    "    print()"
   ]
  }
 ],
 "metadata": {
  "interpreter": {
   "hash": "5d240ba0dc525c389faa33f5dcce5b4f32b6d6aa6d70d6d2dd929bd2b09ab69f"
  },
  "kernelspec": {
   "display_name": "Python 3.10.1 64-bit",
   "language": "python",
   "name": "python3"
  },
  "language_info": {
   "codemirror_mode": {
    "name": "ipython",
    "version": 3
   },
   "file_extension": ".py",
   "mimetype": "text/x-python",
   "name": "python",
   "nbconvert_exporter": "python",
   "pygments_lexer": "ipython3",
   "version": "3.10.1"
  },
  "orig_nbformat": 4
 },
 "nbformat": 4,
 "nbformat_minor": 2
}
