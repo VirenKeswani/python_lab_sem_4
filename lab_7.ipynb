{
 "cells": [
  {
   "cell_type": "markdown",
   "metadata": {},
   "source": [
    "## Lab Session 7\n",
    "![experiment list](./lab_7.jpeg)"
   ]
  },
  {
   "cell_type": "code",
   "execution_count": 3,
   "metadata": {},
   "outputs": [
    {
     "name": "stdout",
     "output_type": "stream",
     "text": [
      "Employee Details:\n",
      "\n",
      "Name: John\n",
      "Age: 25\n",
      "DOB: 01/01/2000\n",
      "\n",
      "Degree: B.Tech\n",
      "Experience: 5 years\n",
      "        \n",
      "        \n",
      "Salary:\n",
      "55000\n"
     ]
    }
   ],
   "source": [
    "from Details.Employee.profile import Employee\n",
    "from Details.Employee.qualification import Qualification\n",
    "from Details.Account.salary import Account\n",
    "\n",
    "\n",
    "employee = Employee(\n",
    "    name = \"John\",\n",
    "    age = 25,\n",
    "    dob = \"01/01/2000\"\n",
    ")\n",
    "\n",
    "employee.qualification = Qualification(\n",
    "    degree = \"B.Tech\",\n",
    "    experience = \"5 years\"\n",
    ")\n",
    "\n",
    "account = Account(\n",
    "    employee = employee,\n",
    "    PF = 5000,\n",
    "    basic_pay = 50000,\n",
    "    HRA = 10000\n",
    ")\n",
    "\n",
    "print(\"Employee Details:\")\n",
    "print(employee)\n",
    "print(\"Salary:\")\n",
    "print(account.calc_salary())"
   ]
  },
  {
   "cell_type": "code",
   "execution_count": 2,
   "metadata": {},
   "outputs": [],
   "source": [
    "from os import mkdir, makedirs, rmdir, removedirs, chdir\n",
    "\n",
    "chdir(\"files\")"
   ]
  },
  {
   "cell_type": "code",
   "execution_count": 3,
   "metadata": {},
   "outputs": [],
   "source": [
    "mkdir(\"dir1\")\n",
    "makedirs(\"dir2/dir3\")"
   ]
  },
  {
   "cell_type": "code",
   "execution_count": 4,
   "metadata": {},
   "outputs": [],
   "source": [
    "rmdir(\"dir1\")\n",
    "removedirs(\"dir2/dir3\")"
   ]
  },
  {
   "cell_type": "code",
   "execution_count": null,
   "metadata": {},
   "outputs": [],
   "source": []
  }
 ],
 "metadata": {
  "interpreter": {
   "hash": "94edbaacddaafd6d45ba5506bea1ce8a371c01e0c71d6cc8e1f8803236d6de55"
  },
  "kernelspec": {
   "display_name": "Python 3.8.7 64-bit",
   "language": "python",
   "name": "python3"
  },
  "language_info": {
   "codemirror_mode": {
    "name": "ipython",
    "version": 3
   },
   "file_extension": ".py",
   "mimetype": "text/x-python",
   "name": "python",
   "nbconvert_exporter": "python",
   "pygments_lexer": "ipython3",
   "version": "3.8.7"
  },
  "orig_nbformat": 4
 },
 "nbformat": 4,
 "nbformat_minor": 2
}
