{
 "cells": [
  {
   "cell_type": "code",
   "execution_count": null,
   "metadata": {},
   "outputs": [],
   "source": [
    "# import mysql.connector\n",
    "# from mysql.connector import Error"
   ]
  },
  {
   "cell_type": "code",
   "execution_count": 3,
   "metadata": {},
   "outputs": [],
   "source": [
    "import mysql.connector\n",
    "\n",
    "mydb = mysql.connector.connect(\n",
    "  host=\"localhost\",\n",
    "  user=\"Viren\",\n",
    "  password=\"Viren@1504\"\n",
    ")\n",
    "\n",
    "mycursor = mydb.cursor()\n",
    "\n"
   ]
  },
  {
   "cell_type": "code",
   "execution_count": 4,
   "metadata": {},
   "outputs": [
    {
     "ename": "DatabaseError",
     "evalue": "1007 (HY000): Can't create database 'emp'; database exists",
     "output_type": "error",
     "traceback": [
      "\u001b[1;31m---------------------------------------------------------------------------\u001b[0m",
      "\u001b[1;31mMySQLInterfaceError\u001b[0m                       Traceback (most recent call last)",
      "File \u001b[1;32m~\\AppData\\Local\\Programs\\Python\\Python39\\lib\\site-packages\\mysql\\connector\\connection_cext.py:523\u001b[0m, in \u001b[0;36mCMySQLConnection.cmd_query\u001b[1;34m(self, query, raw, buffered, raw_as_string)\u001b[0m\n\u001b[0;32m    <a href='file:///c%3A/Users/viren/AppData/Local/Programs/Python/Python39/lib/site-packages/mysql/connector/connection_cext.py?line=521'>522</a>\u001b[0m         query \u001b[39m=\u001b[39m query\u001b[39m.\u001b[39mencode(\u001b[39m'\u001b[39m\u001b[39mutf-8\u001b[39m\u001b[39m'\u001b[39m)\n\u001b[1;32m--> <a href='file:///c%3A/Users/viren/AppData/Local/Programs/Python/Python39/lib/site-packages/mysql/connector/connection_cext.py?line=522'>523</a>\u001b[0m     \u001b[39mself\u001b[39;49m\u001b[39m.\u001b[39;49m_cmysql\u001b[39m.\u001b[39;49mquery(query,\n\u001b[0;32m    <a href='file:///c%3A/Users/viren/AppData/Local/Programs/Python/Python39/lib/site-packages/mysql/connector/connection_cext.py?line=523'>524</a>\u001b[0m                        raw\u001b[39m=\u001b[39;49mraw, buffered\u001b[39m=\u001b[39;49mbuffered,\n\u001b[0;32m    <a href='file:///c%3A/Users/viren/AppData/Local/Programs/Python/Python39/lib/site-packages/mysql/connector/connection_cext.py?line=524'>525</a>\u001b[0m                        raw_as_string\u001b[39m=\u001b[39;49mraw_as_string,\n\u001b[0;32m    <a href='file:///c%3A/Users/viren/AppData/Local/Programs/Python/Python39/lib/site-packages/mysql/connector/connection_cext.py?line=525'>526</a>\u001b[0m                        query_attrs\u001b[39m=\u001b[39;49m\u001b[39mself\u001b[39;49m\u001b[39m.\u001b[39;49m_query_attrs)\n\u001b[0;32m    <a href='file:///c%3A/Users/viren/AppData/Local/Programs/Python/Python39/lib/site-packages/mysql/connector/connection_cext.py?line=526'>527</a>\u001b[0m \u001b[39mexcept\u001b[39;00m MySQLInterfaceError \u001b[39mas\u001b[39;00m exc:\n",
      "\u001b[1;31mMySQLInterfaceError\u001b[0m: Can't create database 'emp'; database exists",
      "\nDuring handling of the above exception, another exception occurred:\n",
      "\u001b[1;31mDatabaseError\u001b[0m                             Traceback (most recent call last)",
      "\u001b[1;32md:\\study\\pc\\laptop\\koding\\python lec\\experiment10.ipynb Cell 3'\u001b[0m in \u001b[0;36m<cell line: 1>\u001b[1;34m()\u001b[0m\n\u001b[1;32m----> <a href='vscode-notebook-cell:/d%3A/study/pc/laptop/koding/python%20lec/experiment10.ipynb#ch0000002?line=0'>1</a>\u001b[0m mycursor\u001b[39m.\u001b[39;49mexecute(\u001b[39m\"\u001b[39;49m\u001b[39mCREATE DATABASE EMP\u001b[39;49m\u001b[39m\"\u001b[39;49m)\n",
      "File \u001b[1;32m~\\AppData\\Local\\Programs\\Python\\Python39\\lib\\site-packages\\mysql\\connector\\cursor_cext.py:269\u001b[0m, in \u001b[0;36mCMySQLCursor.execute\u001b[1;34m(self, operation, params, multi)\u001b[0m\n\u001b[0;32m    <a href='file:///c%3A/Users/viren/AppData/Local/Programs/Python/Python39/lib/site-packages/mysql/connector/cursor_cext.py?line=264'>265</a>\u001b[0m             \u001b[39mraise\u001b[39;00m errors\u001b[39m.\u001b[39mProgrammingError(\n\u001b[0;32m    <a href='file:///c%3A/Users/viren/AppData/Local/Programs/Python/Python39/lib/site-packages/mysql/connector/cursor_cext.py?line=265'>266</a>\u001b[0m                 \u001b[39m\"\u001b[39m\u001b[39mNot all parameters were used in the SQL statement\u001b[39m\u001b[39m\"\u001b[39m)\n\u001b[0;32m    <a href='file:///c%3A/Users/viren/AppData/Local/Programs/Python/Python39/lib/site-packages/mysql/connector/cursor_cext.py?line=267'>268</a>\u001b[0m \u001b[39mtry\u001b[39;00m:\n\u001b[1;32m--> <a href='file:///c%3A/Users/viren/AppData/Local/Programs/Python/Python39/lib/site-packages/mysql/connector/cursor_cext.py?line=268'>269</a>\u001b[0m     result \u001b[39m=\u001b[39m \u001b[39mself\u001b[39;49m\u001b[39m.\u001b[39;49m_cnx\u001b[39m.\u001b[39;49mcmd_query(stmt, raw\u001b[39m=\u001b[39;49m\u001b[39mself\u001b[39;49m\u001b[39m.\u001b[39;49m_raw,\n\u001b[0;32m    <a href='file:///c%3A/Users/viren/AppData/Local/Programs/Python/Python39/lib/site-packages/mysql/connector/cursor_cext.py?line=269'>270</a>\u001b[0m                                  buffered\u001b[39m=\u001b[39;49m\u001b[39mself\u001b[39;49m\u001b[39m.\u001b[39;49m_buffered,\n\u001b[0;32m    <a href='file:///c%3A/Users/viren/AppData/Local/Programs/Python/Python39/lib/site-packages/mysql/connector/cursor_cext.py?line=270'>271</a>\u001b[0m                                  raw_as_string\u001b[39m=\u001b[39;49m\u001b[39mself\u001b[39;49m\u001b[39m.\u001b[39;49m_raw_as_string)\n\u001b[0;32m    <a href='file:///c%3A/Users/viren/AppData/Local/Programs/Python/Python39/lib/site-packages/mysql/connector/cursor_cext.py?line=271'>272</a>\u001b[0m \u001b[39mexcept\u001b[39;00m MySQLInterfaceError \u001b[39mas\u001b[39;00m exc:\n\u001b[0;32m    <a href='file:///c%3A/Users/viren/AppData/Local/Programs/Python/Python39/lib/site-packages/mysql/connector/cursor_cext.py?line=272'>273</a>\u001b[0m     \u001b[39mraise\u001b[39;00m errors\u001b[39m.\u001b[39mget_mysql_exception(msg\u001b[39m=\u001b[39mexc\u001b[39m.\u001b[39mmsg, errno\u001b[39m=\u001b[39mexc\u001b[39m.\u001b[39merrno,\n\u001b[0;32m    <a href='file:///c%3A/Users/viren/AppData/Local/Programs/Python/Python39/lib/site-packages/mysql/connector/cursor_cext.py?line=273'>274</a>\u001b[0m                                      sqlstate\u001b[39m=\u001b[39mexc\u001b[39m.\u001b[39msqlstate)\n",
      "File \u001b[1;32m~\\AppData\\Local\\Programs\\Python\\Python39\\lib\\site-packages\\mysql\\connector\\connection_cext.py:528\u001b[0m, in \u001b[0;36mCMySQLConnection.cmd_query\u001b[1;34m(self, query, raw, buffered, raw_as_string)\u001b[0m\n\u001b[0;32m    <a href='file:///c%3A/Users/viren/AppData/Local/Programs/Python/Python39/lib/site-packages/mysql/connector/connection_cext.py?line=522'>523</a>\u001b[0m     \u001b[39mself\u001b[39m\u001b[39m.\u001b[39m_cmysql\u001b[39m.\u001b[39mquery(query,\n\u001b[0;32m    <a href='file:///c%3A/Users/viren/AppData/Local/Programs/Python/Python39/lib/site-packages/mysql/connector/connection_cext.py?line=523'>524</a>\u001b[0m                        raw\u001b[39m=\u001b[39mraw, buffered\u001b[39m=\u001b[39mbuffered,\n\u001b[0;32m    <a href='file:///c%3A/Users/viren/AppData/Local/Programs/Python/Python39/lib/site-packages/mysql/connector/connection_cext.py?line=524'>525</a>\u001b[0m                        raw_as_string\u001b[39m=\u001b[39mraw_as_string,\n\u001b[0;32m    <a href='file:///c%3A/Users/viren/AppData/Local/Programs/Python/Python39/lib/site-packages/mysql/connector/connection_cext.py?line=525'>526</a>\u001b[0m                        query_attrs\u001b[39m=\u001b[39m\u001b[39mself\u001b[39m\u001b[39m.\u001b[39m_query_attrs)\n\u001b[0;32m    <a href='file:///c%3A/Users/viren/AppData/Local/Programs/Python/Python39/lib/site-packages/mysql/connector/connection_cext.py?line=526'>527</a>\u001b[0m \u001b[39mexcept\u001b[39;00m MySQLInterfaceError \u001b[39mas\u001b[39;00m exc:\n\u001b[1;32m--> <a href='file:///c%3A/Users/viren/AppData/Local/Programs/Python/Python39/lib/site-packages/mysql/connector/connection_cext.py?line=527'>528</a>\u001b[0m     \u001b[39mraise\u001b[39;00m errors\u001b[39m.\u001b[39mget_mysql_exception(exc\u001b[39m.\u001b[39merrno, msg\u001b[39m=\u001b[39mexc\u001b[39m.\u001b[39mmsg,\n\u001b[0;32m    <a href='file:///c%3A/Users/viren/AppData/Local/Programs/Python/Python39/lib/site-packages/mysql/connector/connection_cext.py?line=528'>529</a>\u001b[0m                                      sqlstate\u001b[39m=\u001b[39mexc\u001b[39m.\u001b[39msqlstate)\n\u001b[0;32m    <a href='file:///c%3A/Users/viren/AppData/Local/Programs/Python/Python39/lib/site-packages/mysql/connector/connection_cext.py?line=529'>530</a>\u001b[0m \u001b[39mexcept\u001b[39;00m \u001b[39mAttributeError\u001b[39;00m:\n\u001b[0;32m    <a href='file:///c%3A/Users/viren/AppData/Local/Programs/Python/Python39/lib/site-packages/mysql/connector/connection_cext.py?line=530'>531</a>\u001b[0m     \u001b[39mif\u001b[39;00m \u001b[39mself\u001b[39m\u001b[39m.\u001b[39m_unix_socket:\n",
      "\u001b[1;31mDatabaseError\u001b[0m: 1007 (HY000): Can't create database 'emp'; database exists"
     ]
    }
   ],
   "source": [
    "mycursor.execute(\"CREATE DATABASE EMP\")"
   ]
  },
  {
   "cell_type": "code",
   "execution_count": 5,
   "metadata": {},
   "outputs": [
    {
     "ename": "ProgrammingError",
     "evalue": "1046 (3D000): No database selected",
     "output_type": "error",
     "traceback": [
      "\u001b[1;31m---------------------------------------------------------------------------\u001b[0m",
      "\u001b[1;31mMySQLInterfaceError\u001b[0m                       Traceback (most recent call last)",
      "File \u001b[1;32m~\\AppData\\Local\\Programs\\Python\\Python39\\lib\\site-packages\\mysql\\connector\\connection_cext.py:523\u001b[0m, in \u001b[0;36mCMySQLConnection.cmd_query\u001b[1;34m(self, query, raw, buffered, raw_as_string)\u001b[0m\n\u001b[0;32m    <a href='file:///c%3A/Users/viren/AppData/Local/Programs/Python/Python39/lib/site-packages/mysql/connector/connection_cext.py?line=521'>522</a>\u001b[0m         query \u001b[39m=\u001b[39m query\u001b[39m.\u001b[39mencode(\u001b[39m'\u001b[39m\u001b[39mutf-8\u001b[39m\u001b[39m'\u001b[39m)\n\u001b[1;32m--> <a href='file:///c%3A/Users/viren/AppData/Local/Programs/Python/Python39/lib/site-packages/mysql/connector/connection_cext.py?line=522'>523</a>\u001b[0m     \u001b[39mself\u001b[39;49m\u001b[39m.\u001b[39;49m_cmysql\u001b[39m.\u001b[39;49mquery(query,\n\u001b[0;32m    <a href='file:///c%3A/Users/viren/AppData/Local/Programs/Python/Python39/lib/site-packages/mysql/connector/connection_cext.py?line=523'>524</a>\u001b[0m                        raw\u001b[39m=\u001b[39;49mraw, buffered\u001b[39m=\u001b[39;49mbuffered,\n\u001b[0;32m    <a href='file:///c%3A/Users/viren/AppData/Local/Programs/Python/Python39/lib/site-packages/mysql/connector/connection_cext.py?line=524'>525</a>\u001b[0m                        raw_as_string\u001b[39m=\u001b[39;49mraw_as_string,\n\u001b[0;32m    <a href='file:///c%3A/Users/viren/AppData/Local/Programs/Python/Python39/lib/site-packages/mysql/connector/connection_cext.py?line=525'>526</a>\u001b[0m                        query_attrs\u001b[39m=\u001b[39;49m\u001b[39mself\u001b[39;49m\u001b[39m.\u001b[39;49m_query_attrs)\n\u001b[0;32m    <a href='file:///c%3A/Users/viren/AppData/Local/Programs/Python/Python39/lib/site-packages/mysql/connector/connection_cext.py?line=526'>527</a>\u001b[0m \u001b[39mexcept\u001b[39;00m MySQLInterfaceError \u001b[39mas\u001b[39;00m exc:\n",
      "\u001b[1;31mMySQLInterfaceError\u001b[0m: No database selected",
      "\nDuring handling of the above exception, another exception occurred:\n",
      "\u001b[1;31mProgrammingError\u001b[0m                          Traceback (most recent call last)",
      "\u001b[1;32md:\\study\\pc\\laptop\\koding\\python lec\\experiment10.ipynb Cell 4'\u001b[0m in \u001b[0;36m<cell line: 7>\u001b[1;34m()\u001b[0m\n\u001b[0;32m      <a href='vscode-notebook-cell:/d%3A/study/pc/laptop/koding/python%20lec/experiment10.ipynb#ch0000003?line=0'>1</a>\u001b[0m \u001b[39m# mycursor.execute(\"SHOW DATABASES\")\u001b[39;00m\n\u001b[0;32m      <a href='vscode-notebook-cell:/d%3A/study/pc/laptop/koding/python%20lec/experiment10.ipynb#ch0000003?line=1'>2</a>\u001b[0m \n\u001b[0;32m      <a href='vscode-notebook-cell:/d%3A/study/pc/laptop/koding/python%20lec/experiment10.ipynb#ch0000003?line=2'>3</a>\u001b[0m \u001b[39m# for x in mycursor:\u001b[39;00m\n\u001b[0;32m      <a href='vscode-notebook-cell:/d%3A/study/pc/laptop/koding/python%20lec/experiment10.ipynb#ch0000003?line=3'>4</a>\u001b[0m \u001b[39m#   print(x)\u001b[39;00m\n\u001b[0;32m      <a href='vscode-notebook-cell:/d%3A/study/pc/laptop/koding/python%20lec/experiment10.ipynb#ch0000003?line=4'>5</a>\u001b[0m   \n\u001b[0;32m      <a href='vscode-notebook-cell:/d%3A/study/pc/laptop/koding/python%20lec/experiment10.ipynb#ch0000003?line=5'>6</a>\u001b[0m \u001b[39m#use create table with column names as name , password, address , age , gender\u001b[39;00m\n\u001b[1;32m----> <a href='vscode-notebook-cell:/d%3A/study/pc/laptop/koding/python%20lec/experiment10.ipynb#ch0000003?line=6'>7</a>\u001b[0m mycursor\u001b[39m.\u001b[39;49mexecute(\u001b[39m\"\u001b[39;49m\u001b[39mCREATE TABLE Employee(name CHAR(255), password CHAR(255), address CHAR(255), age CHAR(255), gender CHAR(255))\u001b[39;49m\u001b[39m\"\u001b[39;49m)\n",
      "File \u001b[1;32m~\\AppData\\Local\\Programs\\Python\\Python39\\lib\\site-packages\\mysql\\connector\\cursor_cext.py:269\u001b[0m, in \u001b[0;36mCMySQLCursor.execute\u001b[1;34m(self, operation, params, multi)\u001b[0m\n\u001b[0;32m    <a href='file:///c%3A/Users/viren/AppData/Local/Programs/Python/Python39/lib/site-packages/mysql/connector/cursor_cext.py?line=264'>265</a>\u001b[0m             \u001b[39mraise\u001b[39;00m errors\u001b[39m.\u001b[39mProgrammingError(\n\u001b[0;32m    <a href='file:///c%3A/Users/viren/AppData/Local/Programs/Python/Python39/lib/site-packages/mysql/connector/cursor_cext.py?line=265'>266</a>\u001b[0m                 \u001b[39m\"\u001b[39m\u001b[39mNot all parameters were used in the SQL statement\u001b[39m\u001b[39m\"\u001b[39m)\n\u001b[0;32m    <a href='file:///c%3A/Users/viren/AppData/Local/Programs/Python/Python39/lib/site-packages/mysql/connector/cursor_cext.py?line=267'>268</a>\u001b[0m \u001b[39mtry\u001b[39;00m:\n\u001b[1;32m--> <a href='file:///c%3A/Users/viren/AppData/Local/Programs/Python/Python39/lib/site-packages/mysql/connector/cursor_cext.py?line=268'>269</a>\u001b[0m     result \u001b[39m=\u001b[39m \u001b[39mself\u001b[39;49m\u001b[39m.\u001b[39;49m_cnx\u001b[39m.\u001b[39;49mcmd_query(stmt, raw\u001b[39m=\u001b[39;49m\u001b[39mself\u001b[39;49m\u001b[39m.\u001b[39;49m_raw,\n\u001b[0;32m    <a href='file:///c%3A/Users/viren/AppData/Local/Programs/Python/Python39/lib/site-packages/mysql/connector/cursor_cext.py?line=269'>270</a>\u001b[0m                                  buffered\u001b[39m=\u001b[39;49m\u001b[39mself\u001b[39;49m\u001b[39m.\u001b[39;49m_buffered,\n\u001b[0;32m    <a href='file:///c%3A/Users/viren/AppData/Local/Programs/Python/Python39/lib/site-packages/mysql/connector/cursor_cext.py?line=270'>271</a>\u001b[0m                                  raw_as_string\u001b[39m=\u001b[39;49m\u001b[39mself\u001b[39;49m\u001b[39m.\u001b[39;49m_raw_as_string)\n\u001b[0;32m    <a href='file:///c%3A/Users/viren/AppData/Local/Programs/Python/Python39/lib/site-packages/mysql/connector/cursor_cext.py?line=271'>272</a>\u001b[0m \u001b[39mexcept\u001b[39;00m MySQLInterfaceError \u001b[39mas\u001b[39;00m exc:\n\u001b[0;32m    <a href='file:///c%3A/Users/viren/AppData/Local/Programs/Python/Python39/lib/site-packages/mysql/connector/cursor_cext.py?line=272'>273</a>\u001b[0m     \u001b[39mraise\u001b[39;00m errors\u001b[39m.\u001b[39mget_mysql_exception(msg\u001b[39m=\u001b[39mexc\u001b[39m.\u001b[39mmsg, errno\u001b[39m=\u001b[39mexc\u001b[39m.\u001b[39merrno,\n\u001b[0;32m    <a href='file:///c%3A/Users/viren/AppData/Local/Programs/Python/Python39/lib/site-packages/mysql/connector/cursor_cext.py?line=273'>274</a>\u001b[0m                                      sqlstate\u001b[39m=\u001b[39mexc\u001b[39m.\u001b[39msqlstate)\n",
      "File \u001b[1;32m~\\AppData\\Local\\Programs\\Python\\Python39\\lib\\site-packages\\mysql\\connector\\connection_cext.py:528\u001b[0m, in \u001b[0;36mCMySQLConnection.cmd_query\u001b[1;34m(self, query, raw, buffered, raw_as_string)\u001b[0m\n\u001b[0;32m    <a href='file:///c%3A/Users/viren/AppData/Local/Programs/Python/Python39/lib/site-packages/mysql/connector/connection_cext.py?line=522'>523</a>\u001b[0m     \u001b[39mself\u001b[39m\u001b[39m.\u001b[39m_cmysql\u001b[39m.\u001b[39mquery(query,\n\u001b[0;32m    <a href='file:///c%3A/Users/viren/AppData/Local/Programs/Python/Python39/lib/site-packages/mysql/connector/connection_cext.py?line=523'>524</a>\u001b[0m                        raw\u001b[39m=\u001b[39mraw, buffered\u001b[39m=\u001b[39mbuffered,\n\u001b[0;32m    <a href='file:///c%3A/Users/viren/AppData/Local/Programs/Python/Python39/lib/site-packages/mysql/connector/connection_cext.py?line=524'>525</a>\u001b[0m                        raw_as_string\u001b[39m=\u001b[39mraw_as_string,\n\u001b[0;32m    <a href='file:///c%3A/Users/viren/AppData/Local/Programs/Python/Python39/lib/site-packages/mysql/connector/connection_cext.py?line=525'>526</a>\u001b[0m                        query_attrs\u001b[39m=\u001b[39m\u001b[39mself\u001b[39m\u001b[39m.\u001b[39m_query_attrs)\n\u001b[0;32m    <a href='file:///c%3A/Users/viren/AppData/Local/Programs/Python/Python39/lib/site-packages/mysql/connector/connection_cext.py?line=526'>527</a>\u001b[0m \u001b[39mexcept\u001b[39;00m MySQLInterfaceError \u001b[39mas\u001b[39;00m exc:\n\u001b[1;32m--> <a href='file:///c%3A/Users/viren/AppData/Local/Programs/Python/Python39/lib/site-packages/mysql/connector/connection_cext.py?line=527'>528</a>\u001b[0m     \u001b[39mraise\u001b[39;00m errors\u001b[39m.\u001b[39mget_mysql_exception(exc\u001b[39m.\u001b[39merrno, msg\u001b[39m=\u001b[39mexc\u001b[39m.\u001b[39mmsg,\n\u001b[0;32m    <a href='file:///c%3A/Users/viren/AppData/Local/Programs/Python/Python39/lib/site-packages/mysql/connector/connection_cext.py?line=528'>529</a>\u001b[0m                                      sqlstate\u001b[39m=\u001b[39mexc\u001b[39m.\u001b[39msqlstate)\n\u001b[0;32m    <a href='file:///c%3A/Users/viren/AppData/Local/Programs/Python/Python39/lib/site-packages/mysql/connector/connection_cext.py?line=529'>530</a>\u001b[0m \u001b[39mexcept\u001b[39;00m \u001b[39mAttributeError\u001b[39;00m:\n\u001b[0;32m    <a href='file:///c%3A/Users/viren/AppData/Local/Programs/Python/Python39/lib/site-packages/mysql/connector/connection_cext.py?line=530'>531</a>\u001b[0m     \u001b[39mif\u001b[39;00m \u001b[39mself\u001b[39m\u001b[39m.\u001b[39m_unix_socket:\n",
      "\u001b[1;31mProgrammingError\u001b[0m: 1046 (3D000): No database selected"
     ]
    }
   ],
   "source": [
    "# mycursor.execute(\"SHOW DATABASES\")\n",
    "\n",
    "# for x in mycursor:\n",
    "#   print(x)\n",
    "  \n",
    "#use create table with column names as name , password, address , age , gender\n",
    "mycursor.execute(\"CREATE TABLE Employee(name CHAR(255), password CHAR(255), address CHAR(255), age CHAR(255), gender CHAR(255))\")\n"
   ]
  },
  {
   "cell_type": "code",
   "execution_count": 16,
   "metadata": {},
   "outputs": [],
   "source": [
    "mycursor.execute(\"USE emp\")\n",
    "mycursor.execute(\"INSERT INTO employee(name,password,address , age, gender)VALUES('Viren','tp','home',19,'male')\")\n"
   ]
  },
  {
   "cell_type": "code",
   "execution_count": 6,
   "metadata": {},
   "outputs": [],
   "source": [
    "mycursor.execute(\"USE emp\")"
   ]
  },
  {
   "cell_type": "code",
   "execution_count": 17,
   "metadata": {},
   "outputs": [
    {
     "name": "stdout",
     "output_type": "stream",
     "text": [
      "('Viren', 'tp', 'home', 19, 'male')\n"
     ]
    }
   ],
   "source": [
    "mycursor.execute(\"SELECT * FROM employee\")\n",
    "\n",
    "for x in mycursor:\n",
    "  print(x)"
   ]
  },
  {
   "cell_type": "code",
   "execution_count": 18,
   "metadata": {},
   "outputs": [],
   "source": [
    "mycursor.execute(\"DELETE FROM employee WHERE name='Viren'\")"
   ]
  },
  {
   "cell_type": "code",
   "execution_count": 19,
   "metadata": {},
   "outputs": [],
   "source": [
    "mycursor.execute(\"SELECT * FROM employee\")\n",
    "\n",
    "for x in mycursor:\n",
    "  print(x)"
   ]
  },
  {
   "cell_type": "code",
   "execution_count": 20,
   "metadata": {},
   "outputs": [],
   "source": [
    "mycursor.execute(\"DROP TABLE employee\")\n"
   ]
  },
  {
   "cell_type": "code",
   "execution_count": 7,
   "metadata": {},
   "outputs": [
    {
     "name": "stdout",
     "output_type": "stream",
     "text": [
      "reading...\n",
      "[('Viren', '1234', 'home', '20', 'male')]\n"
     ]
    }
   ],
   "source": [
    "from tkinter import*\n",
    "def save():\n",
    "    #submit button and store in a file\n",
    "    sql= \"INSERT INTO employee VALUES(%s,%s,%s,%s,%s)\"\n",
    "    val  = (name.get(),password1.get(),address1.get(),age1.get(),gender.get())\n",
    "    mycursor.execute(sql, val)\n",
    "\n",
    "top = Tk()\n",
    "top.geometry(\"400x350\")\n",
    "gender = StringVar()\n",
    "name = StringVar()\n",
    "age1 = StringVar()\n",
    "password1 = StringVar()\n",
    "address1 = StringVar()\n",
    "username = Label(top, text=\"Username\").place(x=10,y=10)\n",
    "password = Label(top, text=\"Password\").place(x=10,y=40)\n",
    "username_entry = Entry(top, textvariable=name).place(x=100,y=10)\n",
    "password_entry = Entry(top, textvariable=password1).place(x=100,y=40)\n",
    "#create text box\n",
    "address = Label(top, text=\"Address\").place(x=10,y=70)\n",
    "#input from text field\n",
    "address_Text = Entry(top, textvariable=address1).place(x=100,y=70)\n",
    "\n",
    "\n",
    "\n",
    "#create a Raido Button\n",
    "Gender_label = Label(top, text=\"Choose your gender\").place(x=10,y=120)\n",
    "#radio Button\n",
    "\n",
    "gender_radiobutton1= Radiobutton(top, text=\"Male\", variable=gender, value=\"male\" ).place(x=10,y=140)\n",
    "\n",
    "gender_radiobutton2= Radiobutton(top, text=\"Female\", variable=gender, value=\"Female\").place(x=10,y=160)\n",
    "gender_radiobutton3= Radiobutton(top, text=\"Other\", variable=gender, value=\"Other\").place(x=10,y=180)\n",
    "\n",
    "#age using spinbox\n",
    "age = Label(top, text=\"Age\").place(x=10, y= 220)\n",
    "w = Spinbox(top,from_=0 , to= 100, textvariable=age1).place(x=100, y=220)\n",
    "#call save function with submit\n",
    "submit = Button(top, text=\"Submit\", command=save).place(x=10,y=250)\n",
    "\n",
    "\n",
    "#read from the file and output it to the screen\n",
    "def read():\n",
    "    mycursor.execute(\"SELECT * FROM employee\")\n",
    "    print(\"reading...\")\n",
    "    print(mycursor.fetchall())\n",
    "    for x in mycursor:\n",
    "        print(x)\n",
    "\n",
    "Label(top, text=\"Read from file\").place(x=10,y=300)\n",
    "read_button = Button(top, text=\"Read\", command=read).place(x=100,y=300)\n",
    "\n",
    "\n",
    "\n",
    "top.mainloop()\n",
    "\n"
   ]
  },
  {
   "cell_type": "code",
   "execution_count": null,
   "metadata": {},
   "outputs": [],
   "source": [
    "mycursor.execute(\"DELETE FROM employee WHERE name='viren'\")"
   ]
  },
  {
   "cell_type": "code",
   "execution_count": 12,
   "metadata": {},
   "outputs": [
    {
     "name": "stdout",
     "output_type": "stream",
     "text": [
      "40\n"
     ]
    }
   ],
   "source": [
    "a = \"8, 5\" \n",
    "nums = a.split(',') \n",
    "x, y = nums \n",
    "int_prod = int(x) * int(y) \n",
    "print(int_prod)"
   ]
  }
 ],
 "metadata": {
  "interpreter": {
   "hash": "8d82b438db9bbfd3d81a7e46c0f117a91a35a68100ca8945e1396cbeb0e56a5c"
  },
  "kernelspec": {
   "display_name": "Python 3.9.10 64-bit",
   "language": "python",
   "name": "python3"
  },
  "language_info": {
   "codemirror_mode": {
    "name": "ipython",
    "version": 3
   },
   "file_extension": ".py",
   "mimetype": "text/x-python",
   "name": "python",
   "nbconvert_exporter": "python",
   "pygments_lexer": "ipython3",
   "version": "3.9.10"
  },
  "orig_nbformat": 4
 },
 "nbformat": 4,
 "nbformat_minor": 2
}
