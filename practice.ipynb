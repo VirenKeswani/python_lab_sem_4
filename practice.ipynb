{
 "cells": [
  {
   "cell_type": "markdown",
   "metadata": {},
   "source": [
    "to dispaly all int range 100-200 whose sum of digits is an even number\n",
    "\n"
   ]
  },
  {
   "cell_type": "code",
   "execution_count": 1,
   "metadata": {},
   "outputs": [
    {
     "name": "stdout",
     "output_type": "stream",
     "text": [
      "101\n",
      "103\n",
      "105\n",
      "107\n",
      "109\n",
      "110\n",
      "112\n",
      "114\n",
      "116\n",
      "118\n",
      "121\n",
      "123\n",
      "125\n",
      "127\n",
      "129\n",
      "130\n",
      "132\n",
      "134\n",
      "136\n",
      "138\n",
      "141\n",
      "143\n",
      "145\n",
      "147\n",
      "149\n",
      "150\n",
      "152\n",
      "154\n",
      "156\n",
      "158\n",
      "161\n",
      "163\n",
      "165\n",
      "167\n",
      "169\n",
      "170\n",
      "172\n",
      "174\n",
      "176\n",
      "178\n",
      "181\n",
      "183\n",
      "185\n",
      "187\n",
      "189\n",
      "190\n",
      "192\n",
      "194\n",
      "196\n",
      "198\n",
      "200\n"
     ]
    }
   ],
   "source": [
    "#display numbers in range of 100 - 200\n",
    "for i in range(100,201):\n",
    "    #check sum of the number\n",
    "    sum = 0\n",
    "    str_i = str(i)\n",
    "    for j in range(len(str(i))):\n",
    "        sum+=int(str_i[j])\n",
    "    if(sum%2==0):\n",
    "        print(i)\n",
    "     "
   ]
  },
  {
   "cell_type": "markdown",
   "metadata": {},
   "source": [
    "to implement linear search and binary search define fun"
   ]
  },
  {
   "cell_type": "code",
   "execution_count": 6,
   "metadata": {},
   "outputs": [
    {
     "name": "stdout",
     "output_type": "stream",
     "text": [
      "Enter the list of numbers\n",
      "[5, 10, 15, 20, 25]\n",
      "Enter the number to be searched\n",
      "finding 20\n",
      "using binary search\n",
      "found at index 3\n",
      "using linear search\n",
      "found at index 3\n"
     ]
    }
   ],
   "source": [
    "#implement linear search function\n",
    "def linear_search(arr,n,x):\n",
    "    for i, value in enumerate(arr):\n",
    "        if(value==x):\n",
    "            print(\"found at index\",i)\n",
    "            break\n",
    "       \n",
    "\n",
    "#implement binary search\n",
    "\n",
    "def binary_search(max, min ,arr, n ,x):\n",
    "    mid = (max+min)//2\n",
    "    if(arr[mid]==x):\n",
    "        print(\"found at index\",mid)\n",
    "    elif(arr[mid]>x):\n",
    "        binary_search(min,mid-1,arr,n,x)\n",
    "    elif(arr[mid]<x):\n",
    "        binary_search(mid+1,max,arr,n,x)\n",
    "    else:\n",
    "        print(\"not found\")\n",
    "\n",
    "print(\"Enter the list of numbers\")\n",
    "_list = list(int(x) for x in input().split())\n",
    "_list2=_list\n",
    "print(_list)\n",
    "print(\"Enter the number to be searched\")\n",
    "x = int(input())\n",
    "print(\"finding\",x)\n",
    "\n",
    "print (\"using binary search\")\n",
    "range_a = len(_list)\n",
    "binary_search(range_a,0,_list,range_a,x)\n",
    "\n",
    "print(\"using linear search\")\n",
    "linear_search(_list2,range_a,x)\n"
   ]
  },
  {
   "cell_type": "markdown",
   "metadata": {},
   "source": [
    "python prog to implement matrix multi  and add."
   ]
  },
  {
   "cell_type": "code",
   "execution_count": 3,
   "metadata": {},
   "outputs": [
    {
     "name": "stdout",
     "output_type": "stream",
     "text": [
      "Matrix A\n",
      "[[1, 2, 3], [4, 5, 6], [7, 8, 9]]\n",
      "Matrix B\n",
      "[[1, 2, 3], [4, 5, 6], [7, 8, 9]]\n",
      "<class 'list'>\n",
      "<class 'int'>\n",
      "Matrix A + B\n",
      "[[2, 4, 6], [8, 10, 12], [14, 16, 18]]\n",
      "Matrix A * B\n",
      "[[30, 36, 42], [66, 81, 96], [102, 126, 150]]\n"
     ]
    }
   ],
   "source": [
    "#prog to make matrix multi and add\n",
    "a = [[1,2,3],[4,5,6],[7,8,9]]\n",
    "b = [[1,2,3],[4,5,6],[7,8,9]]\n",
    "#print matrix A and B\n",
    "print(\"Matrix A\")\n",
    "print(a)\n",
    "print(\"Matrix B\")\n",
    "print(b)\n",
    "#matrix addition\n",
    "c = [[0,0,0],[0,0,0],[0,0,0]]\n",
    "print(type(c))\n",
    "#list matrix addition\n",
    "print(type(len(a)))\n",
    "for i in range(0,len(a)):\n",
    "    for j in range(0,len(a[0])):\n",
    "        c[i][j] = a[i][j] + b[i][j]\n",
    "print(\"Matrix A + B\")\n",
    "print(c)\n",
    "#matrix multiplication\n",
    "d = [[0,0,0],[0,0,0],[0,0,0]]\n",
    "for i in range(0,len(a)):\n",
    "    for j in range(0,len(b[0])):\n",
    "        for k in range(0,len(a[0])):\n",
    "            d[i][j] += a[i][k] * b[k][j]\n",
    "print(\"Matrix A * B\")\n",
    "print(d)\n",
    "\n"
   ]
  },
  {
   "cell_type": "code",
   "execution_count": 15,
   "metadata": {},
   "outputs": [
    {
     "ename": "TypeError",
     "evalue": "'int' object is not callable",
     "output_type": "error",
     "traceback": [
      "\u001b[1;31m---------------------------------------------------------------------------\u001b[0m",
      "\u001b[1;31mTypeError\u001b[0m                                 Traceback (most recent call last)",
      "\u001b[1;32md:\\study\\laptop\\koding\\python lec\\practice.ipynb Cell 7'\u001b[0m in \u001b[0;36m<module>\u001b[1;34m\u001b[0m\n\u001b[1;32m----> <a href='vscode-notebook-cell:/d%3A/study/laptop/koding/python%20lec/practice.ipynb#ch0000006?line=0'>1</a>\u001b[0m \u001b[39mfor\u001b[39;00m y \u001b[39min\u001b[39;00m \u001b[39mrange\u001b[39;49m(\u001b[39m5\u001b[39;49m):\n\u001b[0;32m      <a href='vscode-notebook-cell:/d%3A/study/laptop/koding/python%20lec/practice.ipynb#ch0000006?line=1'>2</a>\u001b[0m     \u001b[39mprint\u001b[39m(y)\n",
      "\u001b[1;31mTypeError\u001b[0m: 'int' object is not callable"
     ]
    }
   ],
   "source": [
    "for y in range(5):\n",
    "    print(y)"
   ]
  }
 ],
 "metadata": {
  "interpreter": {
   "hash": "5d240ba0dc525c389faa33f5dcce5b4f32b6d6aa6d70d6d2dd929bd2b09ab69f"
  },
  "kernelspec": {
   "display_name": "Python 3.10.1 64-bit",
   "language": "python",
   "name": "python3"
  },
  "language_info": {
   "codemirror_mode": {
    "name": "ipython",
    "version": 3
   },
   "file_extension": ".py",
   "mimetype": "text/x-python",
   "name": "python",
   "nbconvert_exporter": "python",
   "pygments_lexer": "ipython3",
   "version": "3.10.1"
  },
  "orig_nbformat": 4
 },
 "nbformat": 4,
 "nbformat_minor": 2
}
