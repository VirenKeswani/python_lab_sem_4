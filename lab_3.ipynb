{
 "cells": [
  {
   "cell_type": "markdown",
   "metadata": {},
   "source": [
    "## Lab session 3\n",
    "![\"python lec\"](./exp3.jpg)"
   ]
  },
  {
   "cell_type": "code",
   "execution_count": 3,
   "metadata": {},
   "outputs": [
    {
     "name": "stdout",
     "output_type": "stream",
     "text": [
      "6 is perfect number: True\n"
     ]
    }
   ],
   "source": [
    "# check wether the number is perfect\n",
    "value = int(input())\n",
    "\n",
    "def is_perfect(value):\n",
    "    sum = 0\n",
    "    for i in range(1, value):\n",
    "        if value % i == 0:\n",
    "            sum += i\n",
    "    if sum == value:\n",
    "        return True\n",
    "    else:\n",
    "        return False\n",
    "\n",
    "print(f\"{value} is perfect number: {is_perfect(value)}\")"
   ]
  },
  {
   "cell_type": "code",
   "execution_count": 4,
   "metadata": {},
   "outputs": [
    {
     "name": "stdout",
     "output_type": "stream",
     "text": [
      "abcdefghijklmnopqrstuvwxyz is pangram: True\n"
     ]
    }
   ],
   "source": [
    "# check pangram\n",
    "my_string = input()\n",
    "\n",
    "def is_pangrame(s):\n",
    "    my_set = set(s.lower())\n",
    "\n",
    "    if len(my_set) == 26:\n",
    "        return True\n",
    "    else:\n",
    "        return False\n",
    "\n",
    "print(f\"{my_string} is pangram: {is_pangrame(my_string)}\")"
   ]
  },
  {
   "cell_type": "code",
   "execution_count": 5,
   "metadata": {},
   "outputs": [
    {
     "name": "stdout",
     "output_type": "stream",
     "text": [
      "5! = 120\n"
     ]
    }
   ],
   "source": [
    "# factorial using recursion\n",
    "value = int(input())\n",
    "\n",
    "def fac(value):\n",
    "    if value == 0:\n",
    "        return 1\n",
    "    else:\n",
    "        return value * fac(value - 1)\n",
    "\n",
    "print(f\"{value}! = {fac(value)}\")"
   ]
  },
  {
   "cell_type": "code",
   "execution_count": 1,
   "metadata": {},
   "outputs": [
    {
     "name": "stdout",
     "output_type": "stream",
     "text": [
      "sum of all elements in the list: 3166\n",
      "product of all elements in the list: 272876862430\n",
      "sum of all even indices in the list: 2405\n",
      "add '57, 41, 32' to the list: [41, 235, 2341, 526, 23, 57, 41, 32]\n"
     ]
    }
   ],
   "source": [
    "from lab_3_q6 import *\n",
    "\n",
    "my_list = [int(value) for value in input().split()]\n",
    "\n",
    "print(f\"sum of all elements in the list: {sum_all(my_list)}\")\n",
    "print(f\"product of all elements in the list: {product_all(my_list)}\")\n",
    "print(f\"sum of all even indices in the list: {sum_even_indice(my_list)}\")\n",
    "add_to_list(my_list, [57, 41, 32])\n",
    "print(f\"add '57, 41, 32' to the list: {my_list}\")"
   ]
  },
  {
   "cell_type": "code",
   "execution_count": 2,
   "metadata": {},
   "outputs": [
    {
     "name": "stdout",
     "output_type": "stream",
     "text": [
      "1. sum\n",
      "2. product\n",
      "3. subtraction\n",
      "4. division\n",
      "subtraction: -5\n"
     ]
    }
   ],
   "source": [
    "# calc using variable length argument\n",
    "def sum(*args):\n",
    "    sum = 0\n",
    "    for i in args:\n",
    "        sum += i\n",
    "    return sum\n",
    "\n",
    "def product(*args):\n",
    "    p = 1\n",
    "    for i in args:\n",
    "        p *= i\n",
    "    return p\n",
    "\n",
    "def sub(*args):\n",
    "    if len(args) == 1:\n",
    "        return -args[0]\n",
    "    else:\n",
    "        return args[0] - sub(*args[1:])\n",
    "\n",
    "def div(*args):\n",
    "    assert len(args) == 1, \"two numbers required!\"\n",
    "    return args[0] / args[1]\n",
    "\n",
    "# menu\n",
    "print(\"1. sum\")\n",
    "print(\"2. product\")\n",
    "print(\"3. subtraction\")\n",
    "print(\"4. division\")\n",
    "choice = int(input())\n",
    "\n",
    "inputs = tuple([int(value) for value in input().split()])\n",
    "\n",
    "if choice == 1:\n",
    "    print(f\"sum: {sum(*inputs)}\")\n",
    "elif choice == 2:\n",
    "    print(f\"product: {product(*inputs)}\")\n",
    "elif choice == 3:\n",
    "    print(f\"subtraction: {sub(*inputs)}\")\n",
    "elif choice == 4:\n",
    "    print(f\"division: {div(*inputs)}\")\n",
    "else:\n",
    "    print(\"invalid choice\")"
   ]
  },
  {
   "cell_type": "code",
   "execution_count": 7,
   "metadata": {},
   "outputs": [
    {
     "name": "stdout",
     "output_type": "stream",
     "text": [
      "decorator 1, adds 4\n",
      "square: 29\n",
      "decorator 2, adds 2\n",
      "cude: 127\n"
     ]
    }
   ],
   "source": [
    "# decorators for functions\n",
    "def dec_1(func): # increases the result for 4\n",
    "    def wrapper(*args):\n",
    "        print(\"decorator 1, adds 4\")\n",
    "        return func(*args) + 4\n",
    "    return wrapper\n",
    "\n",
    "def dec_2(func): # increases the result for 2\n",
    "    def wrapper(*args):\n",
    "        print(\"decorator 2, adds 2\")\n",
    "        return func(*args) + 2\n",
    "    return wrapper\n",
    "\n",
    "@dec_1\n",
    "def sq(value):\n",
    "    return value * value\n",
    "\n",
    "@dec_2\n",
    "def cube(value):\n",
    "    return value * value * value\n",
    "\n",
    "number = int(input())\n",
    "\n",
    "print(f\"square: {sq(number)}\")\n",
    "print(f\"cude: {cube(number)}\")"
   ]
  },
  {
   "cell_type": "code",
   "execution_count": null,
   "metadata": {},
   "outputs": [],
   "source": []
  }
 ],
 "metadata": {
  "interpreter": {
   "hash": "94edbaacddaafd6d45ba5506bea1ce8a371c01e0c71d6cc8e1f8803236d6de55"
  },
  "kernelspec": {
   "display_name": "Python 3.8.7 64-bit",
   "language": "python",
   "name": "python3"
  },
  "language_info": {
   "codemirror_mode": {
    "name": "ipython",
    "version": 3
   },
   "file_extension": ".py",
   "mimetype": "text/x-python",
   "name": "python",
   "nbconvert_exporter": "python",
   "pygments_lexer": "ipython3",
   "version": "3.8.7"
  },
  "orig_nbformat": 4
 },
 "nbformat": 4,
 "nbformat_minor": 2
}
