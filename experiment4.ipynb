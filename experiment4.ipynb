{
 "cells": [
  {
   "cell_type": "markdown",
   "metadata": {},
   "source": [
    "![\"python lec\"](./experiment4.jpeg)"
   ]
  },
  {
   "cell_type": "code",
   "execution_count": 7,
   "metadata": {},
   "outputs": [
    {
     "name": "stdout",
     "output_type": "stream",
     "text": [
      "Enter a list of numbers\n",
      "[5, 10, 15, 20]\n",
      "Enter the choice\n",
      "2\n",
      "15\n"
     ]
    }
   ],
   "source": [
    "#list demo\n",
    "print(\"Enter a list of numbers\")\n",
    "_list = list(int(i) for i in input().split())\n",
    "print(_list)\n",
    "print(\"Enter the choice\")\n",
    "choice=int(input())\n",
    "\n",
    "\n",
    "if choice==1:\n",
    "    for i in len(_list):\n",
    "        if _list[i] % 2 == 0:\n",
    "            print(\"the even numbers are:\",_list[i])\n",
    "        else:\n",
    "            print(\"the odd numbers are:\",_list[i])\n",
    "elif choice==2:\n",
    "    print(\"Enter the second list\")\n",
    "    _list2 = list(int(i) for i in input().split())\n",
    "    _list.extend(_list2)\n",
    "    _list.sort()\n",
    "    print(_list)\n",
    "elif choice==3:\n",
    "    print(\"enter a new element to replace the first element\")\n",
    "    a = int(input())\n",
    "    _list[0] = a\n",
    "    print(_list)\n",
    "elif choice==4:\n",
    "    #print  middle element of list\n",
    "    print(_list[len(_list)//2])\n",
    "else:\n",
    "    print(\"invalid choice\")\n",
    "\n",
    "\n"
   ]
  },
  {
   "cell_type": "code",
   "execution_count": 10,
   "metadata": {},
   "outputs": [
    {
     "name": "stdout",
     "output_type": "stream",
     "text": [
      "Enter the name , roll no , marks in three subjects\n",
      "('X', '5', '100', '50', '100', 'A', '10', '20', '30', '40')\n",
      "roll no is: 5\n",
      "marks in three subjects are: 100 50 100\n"
     ]
    }
   ],
   "source": [
    "#make a tuple to input  name of the student , roll no , marks in three subjects \n",
    "\n",
    "print(\"Enter the name , roll no , marks in three subjects\")\n",
    "_tuple = tuple(input().split())\n",
    "print(_tuple)\n",
    "\n",
    "for i in range(len(_tuple)):\n",
    "    if _tuple[i]==\"X\":\n",
    "        print(\"roll no is:\",_tuple[i+1])\n",
    "        print(\"marks in three subjects are:\",_tuple[i+2],_tuple[i+3],_tuple[i+4])"
   ]
  },
  {
   "cell_type": "code",
   "execution_count": 2,
   "metadata": {},
   "outputs": [
    {
     "name": "stdout",
     "output_type": "stream",
     "text": [
      "enter a set of numbers\n",
      "{'5', '10', '15'}\n",
      "{'25', '20', '15'}\n",
      "\n",
      "1. A union B\n",
      "2. A intersection B\n",
      "3. A difference B\n",
      "4. A symmetric difference B\n",
      "5. Exit\n",
      "{'25', '5', '10', '20', '15'}\n",
      "\n",
      "1. A union B\n",
      "2. A intersection B\n",
      "3. A difference B\n",
      "4. A symmetric difference B\n",
      "5. Exit\n",
      "{'15'}\n",
      "\n",
      "1. A union B\n",
      "2. A intersection B\n",
      "3. A difference B\n",
      "4. A symmetric difference B\n",
      "5. Exit\n",
      "{'5', '10'}\n",
      "\n",
      "1. A union B\n",
      "2. A intersection B\n",
      "3. A difference B\n",
      "4. A symmetric difference B\n",
      "5. Exit\n",
      "{'25', '5', '10', '20'}\n",
      "\n",
      "1. A union B\n",
      "2. A intersection B\n",
      "3. A difference B\n",
      "4. A symmetric difference B\n",
      "5. Exit\n"
     ]
    }
   ],
   "source": [
    "print(\"enter a set of numbers\")\n",
    "_set1 = set(input().split())\n",
    "print(_set1)\n",
    "_set2 = set(input().split())\n",
    "print(_set2)\n",
    "\n",
    "while True:\n",
    "    print(\"\"\"\n",
    "1. A union B\n",
    "2. A intersection B\n",
    "3. A difference B\n",
    "4. A symmetric difference B\n",
    "5. Exit\"\"\")\n",
    "    choice = int(input())\n",
    "    if choice == 1:\n",
    "        print(_set1 | _set2)\n",
    "    if choice == 2:\n",
    "        print(_set1 & _set2)\n",
    "    if choice == 3:\n",
    "        print(_set1 - _set2)\n",
    "    if choice == 4:\n",
    "        print(_set1 ^ _set2)\n",
    "    if choice == 5:\n",
    "        break\n",
    "    \n",
    "\n",
    "\n",
    "\n"
   ]
  },
  {
   "cell_type": "code",
   "execution_count": 3,
   "metadata": {},
   "outputs": [
    {
     "name": "stdout",
     "output_type": "stream",
     "text": [
      "{'name': 'Viren', 'age': '19'}\n",
      "Sorted dict [('age', '19'), ('name', 'Viren')]\n",
      "{'college': 'TSEC', 'branch': 'CE'}\n",
      "Concatenated dict {'name': 'Viren', 'age': '19', 'college': 'TSEC', 'branch': 'CE'}\n"
     ]
    }
   ],
   "source": [
    "#read dictionary display ,sort and concatenate \n",
    "len_dict = int(input(\"Enter the length of dictionary\"))\n",
    "dict1 = {}\n",
    "for i in range(len_dict):\n",
    "    key = input(\"Enter the key\")\n",
    "    value = input(\"Enter the value\")\n",
    "    dict1[key] = value\n",
    "print(dict1)\n",
    "\n",
    "#sort\n",
    "dict = sorted(dict1.items())\n",
    "print(\"Sorted dict\",dict)\n",
    "\n",
    "#concatenate\n",
    "len_dict2 = int(input(\"Enter the length of dictionary\"))\n",
    "dict2 = {}\n",
    "for i in range(len_dict2):\n",
    "    key = input(\"Enter the key\")\n",
    "    value = input(\"Enter the value\")\n",
    "    dict2[key] = value\n",
    "print(dict2)\n",
    "\n",
    "dict1.update(dict2)\n",
    "\n",
    "print(\"Concatenated dict\",dict1)"
   ]
  }
 ],
 "metadata": {
  "interpreter": {
   "hash": "5d240ba0dc525c389faa33f5dcce5b4f32b6d6aa6d70d6d2dd929bd2b09ab69f"
  },
  "kernelspec": {
   "display_name": "Python 3.10.1 64-bit",
   "language": "python",
   "name": "python3"
  },
  "language_info": {
   "codemirror_mode": {
    "name": "ipython",
    "version": 3
   },
   "file_extension": ".py",
   "mimetype": "text/x-python",
   "name": "python",
   "nbconvert_exporter": "python",
   "pygments_lexer": "ipython3",
   "version": "3.10.1"
  },
  "orig_nbformat": 4
 },
 "nbformat": 4,
 "nbformat_minor": 2
}
