{
 "cells": [
  {
   "cell_type": "markdown",
   "metadata": {},
   "source": [
    "# Experiment 1\n",
    "\n",
    "The experiment are:\n",
    "\n",
    "1. Write a Python program to print the following string in a specific format:<br />\n",
    "    <ul>\n",
    "    Twinkle, twinkle, little star,<br />\n",
    "    \"How I wonder what you are! \"<br />\n",
    "    Up above the world so high,<br />\n",
    "    Like a diamond in the sky.<br />\n",
    "    Twinkle, ' twinkle ', little star,<br />\n",
    "    How I wonder what you are<br />\n",
    "    </ul>\n",
    "    Using only one print() function.\n"
   ]
  },
  {
   "cell_type": "code",
   "execution_count": 166,
   "metadata": {},
   "outputs": [
    {
     "name": "stdout",
     "output_type": "stream",
     "text": [
      "Twinkle, twinkle, little star,\n",
      "\t\"How I wonder what you are!\"\n",
      "\t\tUp above the world so high,\n",
      "\t\tLike a diamond in the sky.\n",
      "Twinkle, ' twinkle ', little star,\n",
      "\tHow I wonder what you are\n"
     ]
    }
   ],
   "source": [
    "print(\"\"\"Twinkle, twinkle, little star,\n",
    "\\t\"How I wonder what you are!\"\n",
    "\\t\\tUp above the world so high,\n",
    "\\t\\tLike a diamond in the sky.\n",
    "Twinkle, ' twinkle ', little star,\n",
    "\\tHow I wonder what you are\"\"\")"
   ]
  },
  {
   "cell_type": "markdown",
   "metadata": {},
   "source": [
    "2. Program to show output formatting take two values and display them\n",
    "using single print function using\n",
    "- str.format()\n",
    "- % operator"
   ]
  },
  {
   "cell_type": "code",
   "execution_count": 175,
   "metadata": {},
   "outputs": [
    {
     "name": "stdout",
     "output_type": "stream",
     "text": [
      "\n",
      "The values entered are: 12, 22\n"
     ]
    }
   ],
   "source": [
    "value_one = input(\"Enter first value:\\n\")\n",
    "value_two = input(\"Enter second value:\\n\")\n",
    "\n",
    "formatted = str.format(\"\\nThe values entered are: {}, {}\", value_one, value_two)\n",
    "print(formatted)"
   ]
  },
  {
   "cell_type": "markdown",
   "metadata": {},
   "source": [
    "3. Program to find leap year using nested if"
   ]
  },
  {
   "cell_type": "code",
   "execution_count": 2,
   "metadata": {},
   "outputs": [
    {
     "name": "stdout",
     "output_type": "stream",
     "text": [
      "2012 is a leap year\n"
     ]
    }
   ],
   "source": [
    "year = int(input(\"Enter year:\\n\"))\n",
    "\n",
    "if year % 4 == 0:\n",
    "    if year % 100 != 0:\n",
    "        print(\"{} is a leap year\".format(year))\n",
    "    else:\n",
    "        print(\"{} is not a leap year\".format(year))\n",
    "else:\n",
    "    if year % 400 == 0:\n",
    "        print(\"{} is a leap year\".format(year))\n",
    "    else:\n",
    "        print(\"{} is not a leap year\".format(year))"
   ]
  },
  {
   "cell_type": "markdown",
   "metadata": {},
   "source": [
    "4. Program to print all armstrong number in range 1 to 1000."
   ]
  },
  {
   "cell_type": "code",
   "execution_count": 111,
   "metadata": {},
   "outputs": [
    {
     "name": "stdout",
     "output_type": "stream",
     "text": [
      "1 is an armstong number\n",
      "153 is an armstong number\n",
      "370 is an armstong number\n",
      "371 is an armstong number\n",
      "407 is an armstong number\n"
     ]
    }
   ],
   "source": [
    "for x in range(1, 1000):\n",
    "\n",
    "    sum = 0\n",
    "    temp_number = x\n",
    "\n",
    "    while(temp_number!=0):\n",
    "        digit = temp_number % 10\n",
    "        sum = sum + digit**3\n",
    "        temp_number = temp_number // 10\n",
    "    \n",
    "    if sum == x :\n",
    "        print(\"{0} is an armstong number\".format(sum))"
   ]
  },
  {
   "cell_type": "markdown",
   "metadata": {},
   "source": [
    "5. Program to find fibonacci series of n terms"
   ]
  },
  {
   "cell_type": "code",
   "execution_count": 4,
   "metadata": {},
   "outputs": [
    {
     "name": "stdout",
     "output_type": "stream",
     "text": [
      "0\n",
      "1\n",
      "1\n",
      "2\n",
      "3\n",
      "5\n",
      "8\n",
      "13\n"
     ]
    }
   ],
   "source": [
    "n = int(input(\"Enter number:\\n\"))\n",
    "\n",
    "a = 0\n",
    "b = 1\n",
    "\n",
    "for i in range(0, n):\n",
    "    print(a)\n",
    "    c = a + b\n",
    "    a = b\n",
    "    b = c\n"
   ]
  },
  {
   "cell_type": "markdown",
   "metadata": {},
   "source": [
    "# Pattern programs:\n",
    "\n",
    "1.)\n",
    "\n",
    "A<br />\n",
    "BB<br />\n",
    "CCC<br />\n",
    "DDDD<br />\n",
    "EEEEEE"
   ]
  },
  {
   "cell_type": "code",
   "execution_count": 116,
   "metadata": {},
   "outputs": [
    {
     "name": "stdout",
     "output_type": "stream",
     "text": [
      "A \n",
      "BB \n",
      "CCC \n",
      "DDDD \n",
      "EEEEE \n"
     ]
    }
   ],
   "source": [
    "for x in range(65,70):\n",
    "    print(chr(x)*(x-64), end=\" \")\n",
    "    print()"
   ]
  },
  {
   "cell_type": "markdown",
   "metadata": {},
   "source": [
    "2.)\n",
    "\n",
    "*****<br />\n",
    "&nbsp; ****<br />\n",
    "&nbsp;&nbsp; ***<br />\n",
    "&nbsp;&nbsp;&nbsp; **<br />\n",
    "&nbsp;&nbsp;&nbsp;&nbsp; *"
   ]
  },
  {
   "cell_type": "code",
   "execution_count": 174,
   "metadata": {},
   "outputs": [
    {
     "name": "stdout",
     "output_type": "stream",
     "text": [
      " *****\n",
      "  ****\n",
      "   ***\n",
      "    **\n",
      "     *\n"
     ]
    }
   ],
   "source": [
    "for i in range(5,0,-1):\n",
    "    for j in range(6-i,0,-1):\n",
    "        print(\" \", end=\"\")\n",
    "    print(\"*\"*i)\n"
   ]
  },
  {
   "cell_type": "markdown",
   "metadata": {},
   "source": [
    "3.)\n",
    "\n",
    "&nbsp; &nbsp; &nbsp; &nbsp; 1<br/>\n",
    "&nbsp; &nbsp; &nbsp; 121<br/>\n",
    "&nbsp; &nbsp; 12321<br/>\n",
    "&nbsp; 1234321<br/>\n",
    "123454321"
   ]
  },
  {
   "cell_type": "code",
   "execution_count": 150,
   "metadata": {},
   "outputs": [
    {
     "name": "stdout",
     "output_type": "stream",
     "text": [
      "    1\n",
      "   121\n",
      "  12321\n",
      " 1234321\n",
      "123454321\n"
     ]
    }
   ],
   "source": [
    "for x in range(1,6):\n",
    "    print(\" \"*(5-x), end=\"\")\n",
    "    for y in range(1,x+1):\n",
    "        print(y, end=\"\")\n",
    "    for z in range(x-1,0,-1):\n",
    "        print(z, end=\"\")\n",
    "    print()"
   ]
  },
  {
   "cell_type": "markdown",
   "metadata": {},
   "source": [
    "4.)\n",
    "\n",
    "&nbsp; &nbsp; &nbsp; &nbsp; * <br/>\n",
    "&nbsp; &nbsp; &nbsp; * &nbsp; * <br/>\n",
    "&nbsp; &nbsp; * &nbsp; * &nbsp; * <br/>\n",
    "&nbsp; * &nbsp; * &nbsp; * &nbsp; * <br/>\n",
    "*****"
   ]
  },
  {
   "cell_type": "code",
   "execution_count": 155,
   "metadata": {},
   "outputs": [
    {
     "name": "stdout",
     "output_type": "stream",
     "text": [
      "   * \n",
      "  * * \n",
      " * * * \n",
      "* * * * \n"
     ]
    }
   ],
   "source": [
    "for i in range(1,5):\n",
    "    for j in range(4-i,0,-1):\n",
    "        print(\" \", end=\"\")\n",
    "    print(\"* \"*(i), end=\"\")\n",
    "    print()"
   ]
  }
 ],
 "metadata": {
  "interpreter": {
   "hash": "fd82bfe073022de0971eab41fac4b7c15276270087862f1a12670a9f43a970c7"
  },
  "kernelspec": {
   "display_name": "Python 3.9.1 64-bit",
   "language": "python",
   "name": "python3"
  },
  "language_info": {
   "codemirror_mode": {
    "name": "ipython",
    "version": 3
   },
   "file_extension": ".py",
   "mimetype": "text/x-python",
   "name": "python",
   "nbconvert_exporter": "python",
   "pygments_lexer": "ipython3",
   "version": "3.9.1"
  },
  "orig_nbformat": 4
 },
 "nbformat": 4,
 "nbformat_minor": 2
}
