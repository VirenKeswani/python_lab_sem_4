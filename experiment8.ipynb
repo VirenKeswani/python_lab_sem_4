{
 "cells": [
  {
   "cell_type": "markdown",
   "metadata": {},
   "source": [
    "![\"python lec\"](./exp8.jpeg)"
   ]
  },
  {
   "cell_type": "code",
   "execution_count": 1,
   "metadata": {},
   "outputs": [],
   "source": [
    "import re"
   ]
  },
  {
   "cell_type": "code",
   "execution_count": 36,
   "metadata": {},
   "outputs": [
    {
     "name": "stdout",
     "output_type": "stream",
     "text": [
      "Jim Rayan 8900123456\n",
      "\n",
      "Hello Rao 2139832131\n",
      "\n",
      "Karan C 12364940238\n",
      "\n"
     ]
    }
   ],
   "source": [
    "with open('phone.txt','r') as f:\n",
    "    #display if surname is rao\n",
    "    for line in f:\n",
    "        if re.search('Rao',line):\n",
    "            print(line)\n",
    "        if re.search('^J|^K',line):\n",
    "            print(line)\n",
    "\n",
    "\n"
   ]
  },
  {
   "cell_type": "code",
   "execution_count": 46,
   "metadata": {},
   "outputs": [],
   "source": [
    "with open('cities2.txt','r') as f:\n",
    "    #convert spaces to new line\n",
    "    for line in f:\n",
    "        with open('cities3.txt','w') as f:\n",
    "            f.write(line.replace(' ','\\n'))\n",
    "\n",
    "        \n",
    "\n",
    "    "
   ]
  },
  {
   "cell_type": "code",
   "execution_count": 104,
   "metadata": {},
   "outputs": [
    {
     "name": "stdout",
     "output_type": "stream",
     "text": [
      "Starts with Mu or Ma : Mahabaleshwar\n",
      "\n",
      "Starts with Mu or Ma : Malegaon\n",
      "\n",
      "Starts with Mu or Ma : Matheran\n",
      "\n",
      "Ends with ai: Mumbai\n",
      "\n",
      "Starts with Mu or Ma : Mumbai\n",
      "\n",
      "Ends with ai: Sawai\n",
      "\n",
      "Starts with Mu or Ma : Madhopur\n",
      "\n",
      "Second char is u and ends with a: Auac\n",
      "\n"
     ]
    }
   ],
   "source": [
    "with open('cities3.txt','r') as f:\n",
    "    for line in f:\n",
    "        if re.search(\"ai$\",line):\n",
    "            print(\"Ends with ai:\",line)\n",
    "        if re.search(\"^Mu|^Ma\",line):\n",
    "            print(\"Starts with Mu or Ma :\",line)\n",
    "        #second char is u and ends with a\n",
    "        if re.search(\"^[A-Z]u+a[a-z]$\",line):\n",
    "            print(\"Second char is u and ends with a:\",line)"
   ]
  }
 ],
 "metadata": {
  "interpreter": {
   "hash": "8d82b438db9bbfd3d81a7e46c0f117a91a35a68100ca8945e1396cbeb0e56a5c"
  },
  "kernelspec": {
   "display_name": "Python 3.9.10 64-bit",
   "language": "python",
   "name": "python3"
  },
  "language_info": {
   "codemirror_mode": {
    "name": "ipython",
    "version": 3
   },
   "file_extension": ".py",
   "mimetype": "text/x-python",
   "name": "python",
   "nbconvert_exporter": "python",
   "pygments_lexer": "ipython3",
   "version": "3.9.10"
  },
  "orig_nbformat": 4
 },
 "nbformat": 4,
 "nbformat_minor": 2
}
