{
 "cells": [
  {
   "cell_type": "markdown",
   "metadata": {},
   "source": [
    "## Lab Session 5\n",
    "![\"python lec\"](./exp5.jpeg)\n"
   ]
  },
  {
   "cell_type": "code",
   "execution_count": 7,
   "metadata": {},
   "outputs": [
    {
     "name": "stdout",
     "output_type": "stream",
     "text": [
      "hriday Viren\n",
      "Employee count:  5\n"
     ]
    }
   ],
   "source": [
    "emp_list = [Employee(id) for id in input().split()]\n",
    "[emp_list[i].set_name(name) for i, name in enumerate(input().split())]\n",
    "\n",
    "Employee.set_emp_count(5)\n",
    "\n",
    "for emp in emp_list:\n",
    "    print(emp.get_name(), emp.get_id())\n",
    "\n",
    "print(\"Employee count: \", Employee.empcount)"
   ]
  },
  {
   "cell_type": "code",
   "execution_count": 4,
   "metadata": {},
   "outputs": [],
   "source": [
    "# program to create employee class\n",
    "\n",
    "class Employee:\n",
    "    empcount = 0\n",
    "\n",
    "    def __init__(self, _id, **kwargs):\n",
    "        super().__init__(**kwargs)\n",
    "        self.id = _id\n",
    "\n",
    "    def set_name(self, name):\n",
    "        self.name = name\n",
    "    \n",
    "    def get_name(self):\n",
    "        return self.name\n",
    "    \n",
    "    def get_id(self):\n",
    "        return self.id\n",
    "    \n",
    "    def set_emp_count(num):\n",
    "        Employee.empcount = num"
   ]
  },
  {
   "cell_type": "code",
   "execution_count": null,
   "metadata": {},
   "outputs": [],
   "source": [
    "class Student:\n",
    "    def __init__(self, college, **kwargs):\n",
    "        super().__init__(**kwargs)\n",
    "        self.college=college\n",
    "    \n",
    "    def get_college(self):\n",
    "        return self.college\n",
    "    "
   ]
  },
  {
   "cell_type": "code",
   "execution_count": null,
   "metadata": {},
   "outputs": [],
   "source": [
    "class Intern(Employee, Student):\n",
    "    def __init__(self, _id, college, period):\n",
    "        super().__init__(_id=_id, college=college)\n",
    "        self.period = period\n",
    "    \n",
    "\n",
    "    def set_details(self, name):\n",
    "        self.set_name(name)\n",
    "    \n",
    "    def get_details(self):\n",
    "        return self.get_id(), self.get_name(), self.get_college(), self.period"
   ]
  },
  {
   "cell_type": "code",
   "execution_count": null,
   "metadata": {},
   "outputs": [
    {
     "name": "stdout",
     "output_type": "stream",
     "text": [
      "ID: 1\n",
      "Name: vedant\n",
      "College: tsec\n",
      "Period: python\n",
      "\n"
     ]
    }
   ],
   "source": [
    "id, college, period = input().split()\n",
    "\n",
    "intern = Intern(id, college, period)\n",
    "intern.set_details(input())\n",
    "details = intern.get_details()\n",
    "\n",
    "print(f\"\"\"ID: {details[0]}\n",
    "Name: {details[1]}\n",
    "College: {details[2]}\n",
    "Period: {details[3]}\n",
    "\"\"\")"
   ]
  },
  {
   "cell_type": "code",
   "execution_count": null,
   "metadata": {},
   "outputs": [
    {
     "data": {
      "text/plain": [
       "(__main__.Intern, __main__.Employee, __main__.Student, object)"
      ]
     },
     "execution_count": 6,
     "metadata": {},
     "output_type": "execute_result"
    }
   ],
   "source": [
    "Intern.__mro__"
   ]
  },
  {
   "cell_type": "code",
   "execution_count": null,
   "metadata": {},
   "outputs": [],
   "source": [
    "class Complex:\n",
    "    def __init__(self, realpart, imagpart):\n",
    "        self.r = realpart\n",
    "        self.i = imagpart\n",
    "    \n",
    "    def magitude(self):\n",
    "        return (self.r**2 + self.i**2)**0.5\n",
    "\n",
    "    def __gt__(self, other):\n",
    "        return self.magitude() > other.magitude()"
   ]
  },
  {
   "cell_type": "code",
   "execution_count": null,
   "metadata": {},
   "outputs": [
    {
     "name": "stdout",
     "output_type": "stream",
     "text": [
      "5.0\n",
      "5.385164807134504\n",
      "False\n"
     ]
    }
   ],
   "source": [
    "c1 = Complex(3, -4)\n",
    "c2 = Complex(2, 5)\n",
    "\n",
    "print(c1.magitude())\n",
    "print(c2.magitude())\n",
    "\n",
    "print(c1.magitude() > c2.magitude())"
   ]
  },
  {
   "cell_type": "code",
   "execution_count": null,
   "metadata": {},
   "outputs": [],
   "source": []
  }
 ],
 "metadata": {
  "interpreter": {
   "hash": "94edbaacddaafd6d45ba5506bea1ce8a371c01e0c71d6cc8e1f8803236d6de55"
  },
  "kernelspec": {
   "display_name": "Python 3.8.7 64-bit",
   "language": "python",
   "name": "python3"
  },
  "language_info": {
   "codemirror_mode": {
    "name": "ipython",
    "version": 3
   },
   "file_extension": ".py",
   "mimetype": "text/x-python",
   "name": "python",
   "nbconvert_exporter": "python",
   "pygments_lexer": "ipython3",
   "version": "3.8.7"
  },
  "orig_nbformat": 4
 },
 "nbformat": 4,
 "nbformat_minor": 2
}
