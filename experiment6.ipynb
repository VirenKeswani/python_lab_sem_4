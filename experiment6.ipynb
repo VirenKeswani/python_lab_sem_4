{
 "cells": [
  {
   "cell_type": "markdown",
   "metadata": {},
   "source": [
    "![\"python lec\"](./exp5.jpeg)\n"
   ]
  },
  {
   "cell_type": "code",
   "execution_count": 17,
   "metadata": {},
   "outputs": [
    {
     "name": "stdout",
     "output_type": "stream",
     "text": [
      "Enter marks of 3 students\n",
      "Student is a failure 20 2 B\n",
      "Student is a failure 30 3 C\n"
     ]
    }
   ],
   "source": [
    "#user defined exceptions\n",
    "class Student(Exception):\n",
    "    def __init__(self, name, rno , marks):\n",
    "        self.name = name\n",
    "        self.rno = rno\n",
    "        self.marks = marks\n",
    "    def get_name(self):\n",
    "        return self.name\n",
    "    def get_rno(self):\n",
    "        return self.rno\n",
    "    def get_marks(self):\n",
    "        return self.marks\n",
    "\n",
    "print(\"Enter marks of 3 students\")\n",
    "marks=[0,0,0]\n",
    "for i in range(0,3):\n",
    "    marks[i] = int(input())\n",
    "\n",
    "studentdetails = [Student(\"A\",1,marks[0]),Student(\"B\",2,marks[1]),Student(\"C\",3,marks[2])]\n",
    "\n",
    "\n",
    "\n",
    "#user defined exeption\n",
    "for i in range(0,3):\n",
    "    try:\n",
    "        if(marks[i]<40):\n",
    "            raise(studentdetails[i])\n",
    "        else:\n",
    "            pass\n",
    "    except Student as std:\n",
    "        print(\"Student is a failure\",studentdetails[i].get_marks(),studentdetails[i].get_rno(),studentdetails[i].get_name())\n",
    "\n",
    "\n",
    "\n",
    "\n"
   ]
  },
  {
   "cell_type": "code",
   "execution_count": 35,
   "metadata": {},
   "outputs": [
    {
     "name": "stdout",
     "output_type": "stream",
     "text": [
      "Lines in files 2\n",
      "18\n",
      "4\n",
      "Length of file is 22\n"
     ]
    }
   ],
   "source": [
    "f=open(\"SkillIssue.txt\",\"w\")\n",
    "f.write(\"Kya chalu hai\")\n",
    "f.write(\"\\n Example\")\n",
    "f.close()\n",
    "with open(\"SkillIssue.txt\",\"r\") as f:\n",
    "    print(\"Lines in files\", len(f.readlines()))\n",
    "\n",
    "\n",
    "with open(\"SkillIssue.txt\",\"r\") as f:\n",
    "    str1 = f.read()\n",
    "    count = 0\n",
    "    st1r=str1.upper()\n",
    "    count2 = 0\n",
    "    for i in range(len(str1)):\n",
    "        if str1[i].isalpha():\n",
    "            count+=1\n",
    "        if(str1[i]==\" \"):\n",
    "            count2+=1\n",
    "    print(count)\n",
    "    print(count2+1)\n",
    "\n",
    "    print(\"Length of file is\",len(str1))\n",
    "    g = open(\"copy.txt\",\"w\")\n",
    "    g.write(str1)\n",
    "    f.close()\n",
    "    g.close()\n",
    "\n"
   ]
  },
  {
   "cell_type": "code",
   "execution_count": 8,
   "metadata": {},
   "outputs": [
    {
     "name": "stdout",
     "output_type": "stream",
     "text": [
      "id : 1\tname : A\tnumber : 123456789\n",
      "\n",
      "id : 2\tname : B\tnumber : 987654321\n",
      "\n",
      "id : 3\tname : C\tnumber : 123456789\n",
      "\n"
     ]
    }
   ],
   "source": [
    "class Customer:\n",
    "    def __init__(self,id,name,mobilenumber):\n",
    "        self.id = id\n",
    "        self.name = name\n",
    "        self.mobilenumber = mobilenumber\n",
    "    def get_id(self):\n",
    "        return self.id\n",
    "    def get_name(self):\n",
    "        return self.name\n",
    "    def get_mobilenumber(self):\n",
    "        return self.mobilenumber\n",
    "\n",
    "Customerdetails = [Customer(1,\"A\",123456789),Customer(2,\"B\",987654321),Customer(3,\"C\",123456789)]\n",
    "\n",
    "with open(\"Customer.txt\",\"w\") as f:\n",
    "    for i in Customerdetails:\n",
    "        f.write(\"id : \"+str(i.get_id())+\"\\t\"+\"name : \"+str(i.get_name())+\"\\t\"+\"number : \"+str(i.get_mobilenumber())+\"\\n\")\n",
    "        \n",
    "        \n",
    "with open(\"Customer.txt\",\"r\") as f:\n",
    "    for line in f:\n",
    "        print(line)\n"
   ]
  }
 ],
 "metadata": {
  "interpreter": {
   "hash": "247ab06e135bb35fa78c5eff31b2a9a0050dcb5fb773c2631d2a29ac689eeccb"
  },
  "kernelspec": {
   "display_name": "Python 3.9.10 64-bit",
   "language": "python",
   "name": "python3"
  },
  "language_info": {
   "codemirror_mode": {
    "name": "ipython",
    "version": 3
   },
   "file_extension": ".py",
   "mimetype": "text/x-python",
   "name": "python",
   "nbconvert_exporter": "python",
   "pygments_lexer": "ipython3",
   "version": "3.9.10"
  },
  "orig_nbformat": 4
 },
 "nbformat": 4,
 "nbformat_minor": 2
}
