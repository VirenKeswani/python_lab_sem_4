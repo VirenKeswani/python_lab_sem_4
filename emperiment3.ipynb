{
 "cells": [
  {
   "cell_type": "markdown",
   "metadata": {},
   "source": [
    "![\"python lec\"](./exp3.jpg)"
   ]
  },
  {
   "cell_type": "code",
   "execution_count": 3,
   "metadata": {},
   "outputs": [
    {
     "name": "stdout",
     "output_type": "stream",
     "text": [
      "1\n",
      "2\n",
      "3\n",
      "5\n",
      "6\n",
      "10\n",
      "15\n",
      "its not perf number\n"
     ]
    }
   ],
   "source": [
    "#check if the number is a perfect number\n",
    "a=int(input())\n",
    "_range = a\n",
    "\n",
    "def perfnumber(a):\n",
    "    sum = 0\n",
    "    for i in range(1,_range):\n",
    "        \n",
    "        if(a%i==0):\n",
    "            print(i)\n",
    "            sum=sum+i\n",
    "    if(sum==a):\n",
    "        return True\n",
    "    else:\n",
    "        return False\n",
    "\n",
    "if(perfnumber(a)):\n",
    "    print(\"It is a perf number\")\n",
    "else:\n",
    "    print(\"its not perf number\")        \n"
   ]
  },
  {
   "cell_type": "code",
   "execution_count": 10,
   "metadata": {},
   "outputs": [
    {
     "name": "stdout",
     "output_type": "stream",
     "text": [
      "<class 'list'>\n",
      "input =  adsadas\n",
      "not panagram\n"
     ]
    }
   ],
   "source": [
    "#find if then number is a panagram ir not\n",
    "letters = [\n",
    "\"a\",\n",
    "\"b\",\n",
    "\"c\",\n",
    "\"d\",\n",
    "\"e\",\n",
    "\"f\",\n",
    "\"g\",\n",
    "\"h\",\n",
    "\"i\",\n",
    "\"j\",\n",
    "\"k\",\n",
    "\"l\",\n",
    "\"m\",\n",
    "\"n\",\n",
    "\"o\",\n",
    "\"p\",\n",
    "\"q\",\n",
    "\"r\",\n",
    "\"s\",\n",
    "\"t\",\n",
    "\"u\",\n",
    "\"v\",\n",
    "\"w\",\n",
    "\"x\",\n",
    "\"y\",\n",
    "\"z\"\n",
    "]\n",
    "\n",
    "sentence = input()\n",
    "print(\"input = \",sentence)\n",
    "for i in range(len(sentence)):\n",
    "    if(sentence[i] in letters):\n",
    "        letters.remove(sentence[i])\n",
    "\n",
    "if(len(letters)==0):\n",
    "    print(\"panagram\")\n",
    "else:\n",
    "    print(\"not panagram\")\n",
    "\n"
   ]
  },
  {
   "cell_type": "code",
   "execution_count": 14,
   "metadata": {},
   "outputs": [
    {
     "name": "stdout",
     "output_type": "stream",
     "text": [
      "input =  5.0\n",
      "120.0\n"
     ]
    }
   ],
   "source": [
    "#factororial of a number using recursion\n",
    "n=float(input())\n",
    "print(\"input = \",n)\n",
    "def factorial(n):\n",
    "    if(n==1):\n",
    "        return 1\n",
    "    else:\n",
    "        return n*factorial(n-1)\n",
    "\n",
    "print(factorial(n))"
   ]
  },
  {
   "cell_type": "code",
   "execution_count": 23,
   "metadata": {},
   "outputs": [
    {
     "name": "stdout",
     "output_type": "stream",
     "text": [
      "option =  4\n",
      "list =  ['1', '2', '3', '4', '5']\n",
      "['1', '2', '3', '4', '5', '6']\n"
     ]
    }
   ],
   "source": [
    "from listmenu import *\n",
    "_list = input().split()\n",
    "option = input(\"Choose your option\")\n",
    "print(\"option = \",option)\n",
    "print(\"list = \",_list)\n",
    "if(option==\"1\"):\n",
    "    sum_list(_list)\n",
    "elif(option==\"2\"):\n",
    "    prod_list(_list)\n",
    "elif(option==\"3\"):\n",
    "    evensum(_list)\n",
    "elif(option==\"4\"):\n",
    "    addelement(_list)\n"
   ]
  },
  {
   "cell_type": "code",
   "execution_count": null,
   "metadata": {},
   "outputs": [],
   "source": [
    "#make calci with spain but s is silent\n",
    "def add(*args):\n",
    "    return sum(args)\n",
    "def subt(*args):\n",
    "    sub = 0\n",
    "    \n",
    "    return (args)\n",
    "def multi(*args):\n",
    "    prd=1\n",
    "    for i in range(len(args)-1):\n",
    "        prd = args[i]*prd\n",
    "def divide(*args):\n",
    "    div =1\n",
    "    for i in range(len(args)-1):\n",
    "        div = args[i]/div\n",
    "\n",
    "print(\"Enter your choice\")\n",
    "choice = input()\n",
    "\n",
    "if(choice==1):\n",
    "    print(\"enter values to add\")\n",
    "        \n"
   ]
  },
  {
   "cell_type": "code",
   "execution_count": 13,
   "metadata": {},
   "outputs": [
    {
     "name": "stdout",
     "output_type": "stream",
     "text": [
      "1. sum\n",
      "2. product\n",
      "3. subtraction\n",
      "4. division\n",
      "3\n",
      "(20, 5, 3, 2)\n",
      "20\n",
      "10\n"
     ]
    }
   ],
   "source": [
    "#simple calulator using variable length arguments\n",
    "def add(*args):\n",
    "    return sum(args)\n",
    "def subt(*args):\n",
    "    sub=args[0]\n",
    "    print(sub)\n",
    "    for i in range(1,len(args)):\n",
    "        sub = sub - args[i]\n",
    "    return sub\n",
    "def multi(*args):\n",
    "    prod = args[0]\n",
    "    for i in range(1,len(args)):\n",
    "        prod = prod * args[i]\n",
    "    return prod\n",
    "def divide(*args):\n",
    "    div = args[0]\n",
    "    for i in range(1,len(args)):\n",
    "        div = div / args[i]\n",
    "    return div\n",
    "\n",
    "\n",
    "# menu\n",
    "print(\"1. sum\")\n",
    "print(\"2. product\")\n",
    "print(\"3. subtraction\")\n",
    "print(\"4. division\")\n",
    "choice = int(input())\n",
    "\n",
    "inputs = tuple([int(value) for value in input().split()])\n",
    "print(choice)\n",
    "print(inputs)\n",
    "if choice == 1:\n",
    "    print(add(*inputs))\n",
    "elif choice == 2:\n",
    "    print(multi(*inputs))\n",
    "elif choice == 3:\n",
    "    print(subt(*inputs))\n",
    "elif choice == 4:\n",
    "    print(divide(*inputs))\n",
    "else:\n",
    "    print(\"invalid choice\")\n",
    "    "
   ]
  },
  {
   "cell_type": "code",
   "execution_count": 25,
   "metadata": {},
   "outputs": [
    {
     "name": "stdout",
     "output_type": "stream",
     "text": [
      "input =  2\n",
      "2\n",
      "4\n",
      "square of 2 is 8\n",
      "cube of 2 is 16\n"
     ]
    }
   ],
   "source": [
    "#use decorators to calculate square and cube of a number , one to inc result by 4 and another to multiply by 2 \n",
    "def square(func): #increase result by 4\n",
    "    def wrapper(*args):\n",
    "        value = func(*args)\n",
    "        print(value)\n",
    "        return value + 4\n",
    "    return wrapper\n",
    "def cube(func): #multiply result by 2\n",
    "    def wrapper(*args):\n",
    "        value = func(*args)\n",
    "        return value * 2\n",
    "    return wrapper\n",
    "\n",
    "\n",
    "@square\n",
    "def sq(n):\n",
    "    print(n)\n",
    "    return n*n\n",
    "@cube\n",
    "def cb(n):\n",
    "    return n*n*n\n",
    "\n",
    "num = int(input())\n",
    "print(\"input = \",num)\n",
    "print(f\"square of {num} is {sq(num)}\")\n",
    "print(f\"cube of {num} is {cb(num)}\")\n"
   ]
  }
 ],
 "metadata": {
  "interpreter": {
   "hash": "5d240ba0dc525c389faa33f5dcce5b4f32b6d6aa6d70d6d2dd929bd2b09ab69f"
  },
  "kernelspec": {
   "display_name": "Python 3.10.1 64-bit",
   "language": "python",
   "name": "python3"
  },
  "language_info": {
   "codemirror_mode": {
    "name": "ipython",
    "version": 3
   },
   "file_extension": ".py",
   "mimetype": "text/x-python",
   "name": "python",
   "nbconvert_exporter": "python",
   "pygments_lexer": "ipython3",
   "version": "3.8.8"
  },
  "orig_nbformat": 4
 },
 "nbformat": 4,
 "nbformat_minor": 2
}
