{
 "cells": [
  {
   "cell_type": "code",
   "execution_count": 17,
   "metadata": {
    "colab": {
     "base_uri": "https://localhost:8080/"
    },
    "id": "aL8fUkWa-6N3",
    "outputId": "b2de2bf4-cd15-4602-d28c-fe190fd4ae6c",
    "scrolled": true
   },
   "outputs": [
    {
     "name": "stdout",
     "output_type": "stream",
     "text": [
      "\n",
      "A-B-C-D-E\n",
      "| | | |\n",
      "F-G-H-I\n",
      "  | | |\n",
      "J-K-L-M-N\n",
      "    | | |\n",
      "    O P Q\n",
      "    | | |\n",
      "    R S T\n",
      "\n"
     ]
    }
   ],
   "source": [
    "import math \n",
    "\n",
    "# A-B-C-D-E\n",
    "# | | | |\n",
    "# F-G-H-I\n",
    "#   | | |\n",
    "# J-K-L-M-N\n",
    "#     | | |\n",
    "#     O P Q\n",
    "#     | | |\n",
    "#     R S T\n",
    "\n",
    "\n",
    "nodes = {\"A\":(0,0), \"B\":(1,0), \"C\":(2,0), \"D\":(3,0), \"E\":(4,0),\n",
    "         \"F\":(0,1), \"G\":(1,1), \"H\":(2,1), \"I\":(3,1),\n",
    "         \"J\":(0,2), \"K\":(1,2), \"L\":(2,2), \"M\":(3,2), \"N\":(4,2),\n",
    "                               \"O\":(2,3), \"P\":(3,3), \"Q\":(4,3),\n",
    "                               \"R\":(2,4), \"S\":(3,4), \"T\":(4,4)\n",
    "        }\n",
    "edges = {\n",
    "  \"A\": [\"B\", \"F\"],\n",
    "  \"B\": [\"A\",\"G\",\"C\"],\n",
    "  \"C\": [\"B\",\"H\",\"D\"],\n",
    "  \"D\": [\"C\", \"I\", \"E\"],\n",
    "  \"E\": [\"D\"],\n",
    "  \"F\": [\"A\",\"G\"],\n",
    "  \"G\": [\"F\",\"B\",\"H\", \"K\"],\n",
    "  \"H\": [\"G\",\"C\",\"I\", \"L\"],\n",
    "  \"I\": [\"D\",\"M\",\"H\"],\n",
    "  \"J\": [\"K\"],\n",
    "  \"K\": [\"J\",\"G\",\"L\"],\n",
    "  \"L\": [\"K\",\"H\",\"M\", \"O\"],\n",
    "  \"M\": [\"L\",\"I\",\"N\", \"P\"],\n",
    "  \"N\": [\"M\",\"Q\"],\n",
    "  \"O\": [\"L\",\"P\",\"R\"],\n",
    "  \"P\": [\"O\",\"M\",\"Q\", \"S\"],\n",
    "  \"Q\": [\"P\",\"N\",\"T\"],\n",
    "  \"R\": [\"O\",\"S\"],\n",
    "  \"S\": [\"R\",\"P\",\"T\"],\n",
    "  \"T\": [\"S\",\"Q\"],\n",
    "}\n",
    "\n",
    "enemy = \"P\"\n",
    "\n",
    "\n",
    "print(\"\"\"\n",
    "A-B-C-D-E\n",
    "| | | |\n",
    "F-G-H-I\n",
    "  | | |\n",
    "J-K-L-M-N\n",
    "    | | |\n",
    "    O-P-Q\n",
    "    | | |\n",
    "    R-S-T\n",
    "\"\"\")"
   ]
  },
  {
   "cell_type": "code",
   "execution_count": 22,
   "metadata": {},
   "outputs": [
    {
     "name": "stdout",
     "output_type": "stream",
     "text": [
      "A->B->F->G->C->H->K->D->I->L->J->E->M->O->N->P\n",
      "\n",
      "Path Cost: 16\n"
     ]
    }
   ],
   "source": [
    "visited = []\n",
    "queue = []\n",
    "\n",
    "def bfs(visited, graph, node):\n",
    "  pathCost = 0\n",
    "  visited.append(node)\n",
    "  queue.append(node)\n",
    "\n",
    "  while queue:\n",
    "    m = queue.pop(0)\n",
    "    pathCost += 1\n",
    "    if m == enemy:\n",
    "      print(m)\n",
    "      print(f\"\\nPath Cost: {pathCost}\")\n",
    "      break\n",
    "    else: \n",
    "      print (m, end = \"->\") \n",
    "\n",
    "    for neighbour in graph[m]:\n",
    "      if neighbour not in visited:\n",
    "        visited.append(neighbour)\n",
    "        queue.append(neighbour)\n",
    "\n",
    "bfs(visited, edges, 'A') "
   ]
  }
 ],
 "metadata": {
  "colab": {
   "collapsed_sections": [],
   "name": "AstarPacman.ipynb",
   "provenance": []
  },
  "kernelspec": {
   "display_name": "Python 3 (ipykernel)",
   "language": "python",
   "name": "python3"
  },
  "language_info": {
   "codemirror_mode": {
    "name": "ipython",
    "version": 3
   },
   "file_extension": ".py",
   "mimetype": "text/x-python",
   "name": "python",
   "nbconvert_exporter": "python",
   "pygments_lexer": "ipython3",
   "version": "3.10.0"
  }
 },
 "nbformat": 4,
 "nbformat_minor": 1
}
