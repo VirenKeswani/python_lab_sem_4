{
 "cells": [
  {
   "cell_type": "markdown",
   "metadata": {},
   "source": [
    "![\"python lec\"](./unknown.png)"
   ]
  },
  {
   "cell_type": "code",
   "execution_count": 11,
   "metadata": {},
   "outputs": [],
   "source": [
    "import array"
   ]
  },
  {
   "cell_type": "code",
   "execution_count": 12,
   "metadata": {},
   "outputs": [],
   "source": [
    "my_array = None"
   ]
  },
  {
   "cell_type": "code",
   "execution_count": 13,
   "metadata": {},
   "outputs": [],
   "source": [
    "def print_array():\n",
    "    print(f\"The array is: {my_array}\")"
   ]
  },
  {
   "cell_type": "code",
   "execution_count": 14,
   "metadata": {},
   "outputs": [
    {
     "name": "stdout",
     "output_type": "stream",
     "text": [
      "The array is: array('i', [5, 2, 3, 4, 5, 6])\n",
      "The array is: array('i', [5, 2, 3, 4, 5, 6, 150])\n",
      "The array is: array('i', [150, 6, 5, 4, 3, 2, 5])\n",
      "The length of one array item is: 4\n",
      "The array is: array('i', [150, 6, 5, 4, 2, 5])\n",
      "The array is: array('i', [150, 6, 5, 4, 2, 5, 1])\n"
     ]
    }
   ],
   "source": [
    "# read from std in\n",
    "my_array = array.array('i', [int(x) for x in input().split()])\n",
    "print(\"The array is:\")\n",
    "print_array()\n",
    "\n",
    "# read one number from std in\n",
    "print(\"Enter a number:\")\n",
    "temp = int(input(\"Give me one number: \"))\n",
    "# append to array\n",
    "my_array.append(temp)\n",
    "print(\"The array is:\")\n",
    "print_array()\n",
    "\n",
    "# reverse using slice operator\n",
    "my_array[:] = my_array[::-1]    # slice operator   [start:stop:step]\n",
    "print(\"The array is:\")\n",
    "print_array()\n",
    "\n",
    "# get length in bytes of one array item\n",
    "print(f\"The length of one array item is: {my_array.itemsize}\")\n",
    "\n",
    "# read one number from std in\n",
    "print(\"Enter a number:\")\n",
    "temp = int(input(\"Give me one number: \"))\n",
    "# remove item at index 'temp'\n",
    "my_array.pop(temp)  \n",
    "print(\"The array is:\")\n",
    "print_array()\n",
    "\n",
    "# read two numbers: index, value\n",
    "temp = [int(x) for x in input().split()]\n",
    "# insert value at index\n",
    "my_array.insert(temp[0], temp[1])\n",
    "print(\"The array is:\")\n",
    "print_array()"
   ]
  },
  {
   "cell_type": "code",
   "execution_count": 18,
   "metadata": {},
   "outputs": [
    {
     "name": "stdout",
     "output_type": "stream",
     "text": [
      "1\n",
      "2\n",
      "3\n",
      "4\n",
      "5\n",
      "6\n",
      "7\n",
      "8\n",
      "9\n",
      "10\n",
      "removed prime numbers from array:\n",
      "1 4 6 8 9 10 "
     ]
    }
   ],
   "source": [
    "# program to remove prime numbers from an array\n",
    "import array\n",
    "def is_prime(n):\n",
    "    if n == 1:\n",
    "        return False\n",
    "    for x in range(2, n):\n",
    "        if n % x == 0:\n",
    "            return False\n",
    "    else:\n",
    "        return True\n",
    "\n",
    "a = array.array('i', [int(item) for item in input(\"Enter the array: \").split()])\n",
    "for i in range(len(a)):\n",
    "    print(a[i])\n",
    "print(\"removed prime numbers from array:\")\n",
    "for i in range(len(a)):\n",
    "    if not is_prime(a[i]):\n",
    "        print(a[i], end=\" \")"
   ]
  },
  {
   "cell_type": "code",
   "execution_count": 20,
   "metadata": {},
   "outputs": [
    {
     "name": "stdout",
     "output_type": "stream",
     "text": [
      "hello hi\n",
      "hello @i\n"
     ]
    }
   ],
   "source": [
    "# program to replace some stuff\n",
    "_input = input()\n",
    "print(_input)\n",
    "\n",
    "first_char = _input[0]\n",
    "_input = _input.replace(first_char, '@')\n",
    "\n",
    "temp_arr = list(_input)\n",
    "temp_arr[0] = first_char\n",
    "_input = \"\".join(temp_arr)\n",
    "\n",
    "print(_input)"
   ]
  },
  {
   "cell_type": "code",
   "execution_count": 22,
   "metadata": {},
   "outputs": [
    {
     "name": "stdout",
     "output_type": "stream",
     "text": [
      "aadmm\n",
      "Palindrome\n"
     ]
    }
   ],
   "source": [
    "my_string = input()\n",
    "\n",
    "print(\"\".join(sorted(my_string)))\n",
    "\n",
    "if my_string == my_string[::-1]:\n",
    "    print(\"Palindrome\")\n",
    "else:   \n",
    "    print(\"Not Palindrome\")"
   ]
  }
 ],
 "metadata": {
  "interpreter": {
   "hash": "5d240ba0dc525c389faa33f5dcce5b4f32b6d6aa6d70d6d2dd929bd2b09ab69f"
  },
  "kernelspec": {
   "display_name": "Python 3.10.1 64-bit",
   "language": "python",
   "name": "python3"
  },
  "language_info": {
   "codemirror_mode": {
    "name": "ipython",
    "version": 3
   },
   "file_extension": ".py",
   "mimetype": "text/x-python",
   "name": "python",
   "nbconvert_exporter": "python",
   "pygments_lexer": "ipython3",
   "version": "3.7.8"
  },
  "orig_nbformat": 4
 },
 "nbformat": 4,
 "nbformat_minor": 2
}
