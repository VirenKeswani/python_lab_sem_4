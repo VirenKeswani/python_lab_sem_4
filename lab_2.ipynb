{
 "cells": [
  {
   "cell_type": "markdown",
   "metadata": {},
   "source": [
    "## Lab session 2\n",
    "![experiment list](./lab_2.png)"
   ]
  },
  {
   "cell_type": "code",
   "execution_count": 1,
   "metadata": {},
   "outputs": [],
   "source": [
    "import array"
   ]
  },
  {
   "cell_type": "code",
   "execution_count": 2,
   "metadata": {},
   "outputs": [],
   "source": [
    "my_array = None"
   ]
  },
  {
   "cell_type": "code",
   "execution_count": 3,
   "metadata": {},
   "outputs": [],
   "source": [
    "def print_array():\n",
    "    print(f\"The array is: {my_array}\")"
   ]
  },
  {
   "cell_type": "code",
   "execution_count": 4,
   "metadata": {},
   "outputs": [
    {
     "name": "stdout",
     "output_type": "stream",
     "text": [
      "array('i', [5, 1, 32, 6, 85, 923])\n",
      "array('i', [5, 1, 32, 6, 85, 923, 51111])\n",
      "array('i', [51111, 923, 85, 6, 32, 1, 5])\n",
      "The length of one array item is: 4\n",
      "array('i', [923, 85, 6, 32, 1, 5])\n",
      "array('i', [923, 85, 6, 32, 5000, 1, 5])\n"
     ]
    }
   ],
   "source": [
    "# read from std in\n",
    "my_array = array.array('i', [int(x) for x in input().split()])\n",
    "print_array()\n",
    "\n",
    "# read one number from std in\n",
    "temp = int(input(\"Give me one number: \"))\n",
    "# append to array\n",
    "my_array.append(temp)\n",
    "print_array()\n",
    "\n",
    "# reverse using slice operator\n",
    "my_array[:] = my_array[::-1]    # slice operator   [start:stop:step]\n",
    "print_array()\n",
    "\n",
    "# get length in bytes of one array item\n",
    "print(f\"The length of one array item is: {my_array.itemsize}\")\n",
    "\n",
    "# read one number from std in\n",
    "temp = int(input(\"Give me one number: \"))\n",
    "# remove item at index 'temp'\n",
    "my_array.pop(temp)  \n",
    "print_array()\n",
    "\n",
    "# read two numbers: index, value\n",
    "temp = [int(x) for x in input().split()]\n",
    "# insert value at index\n",
    "my_array.insert(temp[0], temp[1])\n",
    "print_array()"
   ]
  },
  {
   "cell_type": "code",
   "execution_count": 46,
   "metadata": {},
   "outputs": [
    {
     "name": "stdout",
     "output_type": "stream",
     "text": [
      "The array is: array('i', [5, 1, 2, 3, 452, 3, 23523])\n",
      "The array is: array('i', [1, 452, 23523])\n"
     ]
    }
   ],
   "source": [
    "# program to remove prime numbers from an array\n",
    "my_array = array.array('i', [int(x) for x in input().split()])\n",
    "print_array()\n",
    "\n",
    "def is_prime(num):\n",
    "    if num == 1:\n",
    "        return False\n",
    "    for i in range(2, num):\n",
    "        if num % i == 0:\n",
    "            return False\n",
    "    return True\n",
    "\n",
    "new_array = array.array('i', [item for item in my_array if not is_prime(item)])\n",
    "\n",
    "my_array = new_array\n",
    "print_array()"
   ]
  },
  {
   "cell_type": "code",
   "execution_count": 24,
   "metadata": {},
   "outputs": [
    {
     "name": "stdout",
     "output_type": "stream",
     "text": [
      "all aboard the trian\n",
      "all @bo@rd the tri@n\n"
     ]
    }
   ],
   "source": [
    "# program to replace some stuff\n",
    "_input = input()\n",
    "print(_input)\n",
    "\n",
    "first_char = _input[0]\n",
    "_input = _input.replace(first_char, '@')\n",
    "\n",
    "temp_arr = list(_input)\n",
    "temp_arr[0] = first_char\n",
    "_input = \"\".join(temp_arr)\n",
    "\n",
    "print(_input)"
   ]
  },
  {
   "cell_type": "code",
   "execution_count": 31,
   "metadata": {},
   "outputs": [
    {
     "name": "stdout",
     "output_type": "stream",
     "text": [
      "adenstv\n",
      "Not Palindrome\n"
     ]
    }
   ],
   "source": [
    "my_string = input()\n",
    "\n",
    "print(\"\".join(sorted(my_string)))\n",
    "\n",
    "if my_string == my_string[::-1]:\n",
    "    print(\"Palindrome\")\n",
    "else:   \n",
    "    print(\"Not Palindrome\")"
   ]
  }
 ],
 "metadata": {
  "interpreter": {
   "hash": "94edbaacddaafd6d45ba5506bea1ce8a371c01e0c71d6cc8e1f8803236d6de55"
  },
  "kernelspec": {
   "display_name": "Python 3.8.7 64-bit",
   "language": "python",
   "name": "python3"
  },
  "language_info": {
   "codemirror_mode": {
    "name": "ipython",
    "version": 3
   },
   "file_extension": ".py",
   "mimetype": "text/x-python",
   "name": "python",
   "nbconvert_exporter": "python",
   "pygments_lexer": "ipython3",
   "version": "3.8.7"
  },
  "orig_nbformat": 4
 },
 "nbformat": 4,
 "nbformat_minor": 2
}
