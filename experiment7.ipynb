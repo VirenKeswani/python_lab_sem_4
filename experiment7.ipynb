{
 "cells": [
  {
   "cell_type": "code",
   "execution_count": 6,
   "metadata": {},
   "outputs": [
    {
     "name": "stdout",
     "output_type": "stream",
     "text": [
      "Name: Raj\n",
      "Age: 25\n",
      "DOB: 12/12/12\n",
      "CE\n",
      "none\n",
      "14000\n"
     ]
    }
   ],
   "source": [
    "\n",
    "#fuck python\n",
    "#import package\n",
    "from Details.Employee.profile import *\n",
    "from Details.Employee.Qualification import *\n",
    "from Details.Account.salary import *\n",
    "\n",
    "#print \n",
    "# profile.get_profile('Raj',25,'12/12/12')\n",
    "profile.get_profile('Raj',25,'12/12/12')\n",
    "print(get_degree())\n",
    "print(get_experience())\n",
    "print(get_Basic()+get_HRA()-get_PF())\n"
   ]
  },
  {
   "cell_type": "code",
   "execution_count": 2,
   "metadata": {},
   "outputs": [],
   "source": [
    "import os\n",
    "os.mkdir('new_dir')\n",
    "os.makedirs('new_dir1/new_dir2')\n",
    "\n"
   ]
  },
  {
   "cell_type": "code",
   "execution_count": 3,
   "metadata": {},
   "outputs": [],
   "source": [
    "os.rmdir('new_dir')\n",
    "os.removedirs('new_dir1/new_dir2')"
   ]
  },
  {
   "cell_type": "code",
   "execution_count": 1,
   "metadata": {},
   "outputs": [],
   "source": [
    "#change dir\n",
    "os.makedirs('new_dir')\n"
   ]
  },
  {
   "cell_type": "code",
   "execution_count": 16,
   "metadata": {},
   "outputs": [],
   "source": [
    "os.chdir('D:\\study\\pc\\laptop\\koding\\python lec\\Details')"
   ]
  }
 ],
 "metadata": {
  "interpreter": {
   "hash": "8d82b438db9bbfd3d81a7e46c0f117a91a35a68100ca8945e1396cbeb0e56a5c"
  },
  "kernelspec": {
   "display_name": "Python 3.9.10 64-bit",
   "language": "python",
   "name": "python3"
  },
  "language_info": {
   "codemirror_mode": {
    "name": "ipython",
    "version": 3
   },
   "file_extension": ".py",
   "mimetype": "text/x-python",
   "name": "python",
   "nbconvert_exporter": "python",
   "pygments_lexer": "ipython3",
   "version": "3.9.10"
  },
  "orig_nbformat": 4
 },
 "nbformat": 4,
 "nbformat_minor": 2
}
