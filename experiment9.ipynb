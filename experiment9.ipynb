{
 "cells": [
  {
   "cell_type": "markdown",
   "metadata": {},
   "source": [
    "![\"python lec\"](./exp9.jpg)"
   ]
  },
  {
   "cell_type": "code",
   "execution_count": 1,
   "metadata": {},
   "outputs": [
    {
     "name": "stdout",
     "output_type": "stream",
     "text": [
      "Name : Viren\n",
      "\n",
      "Pass : xyz\n",
      "\n",
      "add : Home\n",
      "\n",
      "age : 19\n",
      "\n",
      "gender : male\n",
      "\n"
     ]
    },
    {
     "name": "stderr",
     "output_type": "stream",
     "text": [
      "Exception in Tkinter callback\n",
      "Traceback (most recent call last):\n",
      "  File \"C:\\Users\\viren\\AppData\\Local\\Programs\\Python\\Python39\\lib\\tkinter\\__init__.py\", line 1892, in __call__\n",
      "    return self.func(*args)\n",
      "  File \"C:\\Users\\viren\\AppData\\Local\\Temp\\ipykernel_24240\\1645852102.py\", line 57, in read\n",
      "    Text(top, text=f.read()).pack()\n",
      "  File \"C:\\Users\\viren\\AppData\\Local\\Programs\\Python\\Python39\\lib\\tkinter\\__init__.py\", line 3559, in __init__\n",
      "    Widget.__init__(self, master, 'text', cnf, kw)\n",
      "  File \"C:\\Users\\viren\\AppData\\Local\\Programs\\Python\\Python39\\lib\\tkinter\\__init__.py\", line 2572, in __init__\n",
      "    self.tk.call(\n",
      "_tkinter.TclError: unknown option \"-text\"\n"
     ]
    }
   ],
   "source": [
    "from tkinter import*\n",
    "def save():\n",
    "        #submit button and store in a file\n",
    "\n",
    "    with open('D:\\study\\pc\\laptop\\koding\\python lec\\details.txt', 'w') as f:\n",
    "        # f.write(\"Name : \",name.get(),'\\n')\n",
    "        # f.write(\"Pass : \",password1.get(),\"\\n\")\n",
    "        # f.write(\"add : \",address.get(),'\\n')\n",
    "        # f.write(\"age : \",age.get(),'\\n')\n",
    "        f.write(\"Name : \"+name.get()+'\\n')\n",
    "        f.write(\"Pass : \"+password1.get()+\"\\n\")\n",
    "        f.write(\"add : \"+address1.get()+'\\n')\n",
    "        f.write(\"age : \"+age1.get()+'\\n')\n",
    "        f.write(\"gender : \"+gender.get()+'\\n')\n",
    "\n",
    "top = Tk()\n",
    "top.geometry(\"400x350\")\n",
    "gender = StringVar()\n",
    "name = StringVar()\n",
    "age1 = StringVar()\n",
    "password1 = StringVar()\n",
    "address1 = StringVar()\n",
    "username = Label(top, text=\"Username\").place(x=10,y=10)\n",
    "password = Label(top, text=\"Password\").place(x=10,y=40)\n",
    "username_entry = Entry(top, textvariable=name).place(x=100,y=10)\n",
    "password_entry = Entry(top, textvariable=password1).place(x=100,y=40)\n",
    "#create text box\n",
    "address = Label(top, text=\"Address\").place(x=10,y=70)\n",
    "#input from text field\n",
    "address_Text = Entry(top, textvariable=address1).place(x=100,y=70)\n",
    "\n",
    "\n",
    "\n",
    "#create a Raido Button\n",
    "Gender_label = Label(top, text=\"Choose your gender\").place(x=10,y=120)\n",
    "#radio Button\n",
    "\n",
    "gender_radiobutton1= Radiobutton(top, text=\"Male\", variable=gender, value=\"male\" ).place(x=10,y=140)\n",
    "\n",
    "gender_radiobutton2= Radiobutton(top, text=\"Female\", variable=gender, value=\"Female\").place(x=10,y=160)\n",
    "gender_radiobutton3= Radiobutton(top, text=\"Other\", variable=gender, value=\"Other\").place(x=10,y=180)\n",
    "\n",
    "#age using spinbox\n",
    "age = Label(top, text=\"Age\").place(x=10, y= 220)\n",
    "w = Spinbox(top,from_=0 , to= 100, textvariable=age1).place(x=100, y=220)\n",
    "#call save function with submit\n",
    "submit = Button(top, text=\"Submit\", command=save).place(x=10,y=250)\n",
    "\n",
    "\n",
    "#read from the file and output it to the screen\n",
    "def read():\n",
    "    with open('D:\\study\\pc\\laptop\\koding\\python lec\\details.txt', 'r') as f:\n",
    "        top = Tk()\n",
    "        for line in f:\n",
    "            print(line)\n",
    "            Label(top, text=line).pack()\n",
    "        Text(top, text=f.read()).pack()\n",
    "\n",
    "Label(top, text=\"Read from file\").place(x=10,y=300)\n",
    "read_button = Button(top, text=\"Read\", command=read).place(x=100,y=300)\n",
    "\n",
    "\n",
    "\n",
    "top.mainloop()\n",
    "\n"
   ]
  }
 ],
 "metadata": {
  "interpreter": {
   "hash": "8d82b438db9bbfd3d81a7e46c0f117a91a35a68100ca8945e1396cbeb0e56a5c"
  },
  "kernelspec": {
   "display_name": "Python 3.9.10 64-bit",
   "language": "python",
   "name": "python3"
  },
  "language_info": {
   "codemirror_mode": {
    "name": "ipython",
    "version": 3
   },
   "file_extension": ".py",
   "mimetype": "text/x-python",
   "name": "python",
   "nbconvert_exporter": "python",
   "pygments_lexer": "ipython3",
   "version": "3.9.10"
  },
  "orig_nbformat": 4
 },
 "nbformat": 4,
 "nbformat_minor": 2
}
